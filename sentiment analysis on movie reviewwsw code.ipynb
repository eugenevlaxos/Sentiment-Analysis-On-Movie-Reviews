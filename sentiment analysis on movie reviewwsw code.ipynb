{
 "cells": [
  {
   "cell_type": "code",
   "execution_count": 1,
   "metadata": {
    "colab": {
     "base_uri": "https://localhost:8080/",
     "height": 424
    },
    "executionInfo": {
     "elapsed": 1993,
     "status": "ok",
     "timestamp": 1639940298524,
     "user": {
      "displayName": "Basilis Thiou",
      "photoUrl": "https://lh3.googleusercontent.com/a-/AOh14GiIiPUIeoAu6ZW5gHpTiRRY-KsE1sM1ffpfUk9gog=s64",
      "userId": "13467594205314738941"
     },
     "user_tz": -120
    },
    "id": "3ZPsvHnQ4yDt",
    "outputId": "5d2416b3-d454-4e35-fcdb-c6a1875dabc4"
   },
   "outputs": [
    {
     "data": {
      "text/html": [
       "<div>\n",
       "<style scoped>\n",
       "    .dataframe tbody tr th:only-of-type {\n",
       "        vertical-align: middle;\n",
       "    }\n",
       "\n",
       "    .dataframe tbody tr th {\n",
       "        vertical-align: top;\n",
       "    }\n",
       "\n",
       "    .dataframe thead th {\n",
       "        text-align: right;\n",
       "    }\n",
       "</style>\n",
       "<table border=\"1\" class=\"dataframe\">\n",
       "  <thead>\n",
       "    <tr style=\"text-align: right;\">\n",
       "      <th></th>\n",
       "      <th>review</th>\n",
       "      <th>sentiment</th>\n",
       "    </tr>\n",
       "  </thead>\n",
       "  <tbody>\n",
       "    <tr>\n",
       "      <th>33003</th>\n",
       "      <td>Set in Paris in the year 1910, a retired old r...</td>\n",
       "      <td>positive</td>\n",
       "    </tr>\n",
       "    <tr>\n",
       "      <th>12172</th>\n",
       "      <td>Basic structure of a story: Beginning, Middle,...</td>\n",
       "      <td>negative</td>\n",
       "    </tr>\n",
       "    <tr>\n",
       "      <th>5192</th>\n",
       "      <td>An odd, willfully skewed biopic of Dyan Thomas...</td>\n",
       "      <td>negative</td>\n",
       "    </tr>\n",
       "    <tr>\n",
       "      <th>32511</th>\n",
       "      <td>Okay, you have:&lt;br /&gt;&lt;br /&gt;Penelope Keith as M...</td>\n",
       "      <td>negative</td>\n",
       "    </tr>\n",
       "    <tr>\n",
       "      <th>43723</th>\n",
       "      <td>The larger-than-life figures of Wyatt Earp and...</td>\n",
       "      <td>positive</td>\n",
       "    </tr>\n",
       "    <tr>\n",
       "      <th>...</th>\n",
       "      <td>...</td>\n",
       "      <td>...</td>\n",
       "    </tr>\n",
       "    <tr>\n",
       "      <th>36805</th>\n",
       "      <td>This musical is decidedly mixed, and none of t...</td>\n",
       "      <td>positive</td>\n",
       "    </tr>\n",
       "    <tr>\n",
       "      <th>46711</th>\n",
       "      <td>Nothing better than an android boasting 80's t...</td>\n",
       "      <td>positive</td>\n",
       "    </tr>\n",
       "    <tr>\n",
       "      <th>12374</th>\n",
       "      <td>David Aames is a rich good-looking guy who liv...</td>\n",
       "      <td>positive</td>\n",
       "    </tr>\n",
       "    <tr>\n",
       "      <th>35086</th>\n",
       "      <td>So boring you'll fall asleep after the 20 firs...</td>\n",
       "      <td>negative</td>\n",
       "    </tr>\n",
       "    <tr>\n",
       "      <th>15561</th>\n",
       "      <td>After a man turns up dead, a soldier becomes t...</td>\n",
       "      <td>positive</td>\n",
       "    </tr>\n",
       "  </tbody>\n",
       "</table>\n",
       "<p>5000 rows × 2 columns</p>\n",
       "</div>"
      ],
      "text/plain": [
       "                                                  review sentiment\n",
       "33003  Set in Paris in the year 1910, a retired old r...  positive\n",
       "12172  Basic structure of a story: Beginning, Middle,...  negative\n",
       "5192   An odd, willfully skewed biopic of Dyan Thomas...  negative\n",
       "32511  Okay, you have:<br /><br />Penelope Keith as M...  negative\n",
       "43723  The larger-than-life figures of Wyatt Earp and...  positive\n",
       "...                                                  ...       ...\n",
       "36805  This musical is decidedly mixed, and none of t...  positive\n",
       "46711  Nothing better than an android boasting 80's t...  positive\n",
       "12374  David Aames is a rich good-looking guy who liv...  positive\n",
       "35086  So boring you'll fall asleep after the 20 firs...  negative\n",
       "15561  After a man turns up dead, a soldier becomes t...  positive\n",
       "\n",
       "[5000 rows x 2 columns]"
      ]
     },
     "execution_count": 1,
     "metadata": {},
     "output_type": "execute_result"
    }
   ],
   "source": [
    "import pandas as pd\n",
    "import numpy as np\n",
    "from nltk.corpus import stopwords\n",
    "\n",
    "df = pd.read_csv(\"IMDB Dataset.csv\")\n",
    "data=df.sample(frac=0.1,replace=True,random_state=1)\n",
    "data"
   ]
  },
  {
   "cell_type": "code",
   "execution_count": 2,
   "metadata": {
    "colab": {
     "base_uri": "https://localhost:8080/",
     "height": 418
    },
    "executionInfo": {
     "elapsed": 17611,
     "status": "ok",
     "timestamp": 1639940354756,
     "user": {
      "displayName": "Basilis Thiou",
      "photoUrl": "https://lh3.googleusercontent.com/a-/AOh14GiIiPUIeoAu6ZW5gHpTiRRY-KsE1sM1ffpfUk9gog=s64",
      "userId": "13467594205314738941"
     },
     "user_tz": -120
    },
    "id": "4Re4v0qy4yDz",
    "outputId": "32345220-a7f0-4f7c-b529-0e75af363779"
   },
   "outputs": [
    {
     "data": {
      "text/html": [
       "<div>\n",
       "<style scoped>\n",
       "    .dataframe tbody tr th:only-of-type {\n",
       "        vertical-align: middle;\n",
       "    }\n",
       "\n",
       "    .dataframe tbody tr th {\n",
       "        vertical-align: top;\n",
       "    }\n",
       "\n",
       "    .dataframe thead th {\n",
       "        text-align: right;\n",
       "    }\n",
       "</style>\n",
       "<table border=\"1\" class=\"dataframe\">\n",
       "  <thead>\n",
       "    <tr style=\"text-align: right;\">\n",
       "      <th></th>\n",
       "      <th>index</th>\n",
       "      <th>frequency</th>\n",
       "    </tr>\n",
       "  </thead>\n",
       "  <tbody>\n",
       "    <tr>\n",
       "      <th>0</th>\n",
       "      <td>br br</td>\n",
       "      <td>4996</td>\n",
       "    </tr>\n",
       "    <tr>\n",
       "      <th>1</th>\n",
       "      <td>of the</td>\n",
       "      <td>4140</td>\n",
       "    </tr>\n",
       "    <tr>\n",
       "      <th>2</th>\n",
       "      <td>in the</td>\n",
       "      <td>2577</td>\n",
       "    </tr>\n",
       "    <tr>\n",
       "      <th>3</th>\n",
       "      <td>the film</td>\n",
       "      <td>1456</td>\n",
       "    </tr>\n",
       "    <tr>\n",
       "      <th>4</th>\n",
       "      <td>and the</td>\n",
       "      <td>1431</td>\n",
       "    </tr>\n",
       "    <tr>\n",
       "      <th>5</th>\n",
       "      <td>to the</td>\n",
       "      <td>1332</td>\n",
       "    </tr>\n",
       "    <tr>\n",
       "      <th>6</th>\n",
       "      <td>this movie</td>\n",
       "      <td>1321</td>\n",
       "    </tr>\n",
       "    <tr>\n",
       "      <th>7</th>\n",
       "      <td>this film</td>\n",
       "      <td>1140</td>\n",
       "    </tr>\n",
       "    <tr>\n",
       "      <th>8</th>\n",
       "      <td>it is</td>\n",
       "      <td>1115</td>\n",
       "    </tr>\n",
       "    <tr>\n",
       "      <th>9</th>\n",
       "      <td>the movie</td>\n",
       "      <td>1082</td>\n",
       "    </tr>\n",
       "  </tbody>\n",
       "</table>\n",
       "</div>"
      ],
      "text/plain": [
       "        index  frequency\n",
       "0       br br       4996\n",
       "1      of the       4140\n",
       "2      in the       2577\n",
       "3    the film       1456\n",
       "4     and the       1431\n",
       "5      to the       1332\n",
       "6  this movie       1321\n",
       "7   this film       1140\n",
       "8       it is       1115\n",
       "9   the movie       1082"
      ]
     },
     "execution_count": 2,
     "metadata": {},
     "output_type": "execute_result"
    }
   ],
   "source": [
    "from sklearn.feature_extraction.text import CountVectorizer\n",
    "def plot_ngram(sentiment, n):\n",
    "    \n",
    "    temp_df = data[data['sentiment'] == sentiment]\n",
    "    \n",
    "    word_vectorizer = CountVectorizer(ngram_range=(n, n), analyzer='word')\n",
    "    sparse_matrix = word_vectorizer.fit_transform(temp_df['review'])\n",
    "    \n",
    "    frequencies = sum(sparse_matrix).toarray()[0]\n",
    "    \n",
    "    return pd.DataFrame(frequencies, index=word_vectorizer.get_feature_names(), columns=['frequency'])\\\n",
    "            .sort_values(by='frequency', ascending=False) \\\n",
    "            .reset_index() \\\n",
    "            .head(10)\n",
    "\n",
    "\n",
    "\n",
    "plot_ngram('positive', 2)\n"
   ]
  },
  {
   "cell_type": "code",
   "execution_count": 3,
   "metadata": {
    "colab": {
     "base_uri": "https://localhost:8080/",
     "height": 418
    },
    "executionInfo": {
     "elapsed": 16417,
     "status": "ok",
     "timestamp": 1639940376229,
     "user": {
      "displayName": "Basilis Thiou",
      "photoUrl": "https://lh3.googleusercontent.com/a-/AOh14GiIiPUIeoAu6ZW5gHpTiRRY-KsE1sM1ffpfUk9gog=s64",
      "userId": "13467594205314738941"
     },
     "user_tz": -120
    },
    "id": "cywMTO9g4yD0",
    "outputId": "2ad7e0b6-b85e-4884-98a6-037d5d0ab27a"
   },
   "outputs": [
    {
     "data": {
      "text/html": [
       "<div>\n",
       "<style scoped>\n",
       "    .dataframe tbody tr th:only-of-type {\n",
       "        vertical-align: middle;\n",
       "    }\n",
       "\n",
       "    .dataframe tbody tr th {\n",
       "        vertical-align: top;\n",
       "    }\n",
       "\n",
       "    .dataframe thead th {\n",
       "        text-align: right;\n",
       "    }\n",
       "</style>\n",
       "<table border=\"1\" class=\"dataframe\">\n",
       "  <thead>\n",
       "    <tr style=\"text-align: right;\">\n",
       "      <th></th>\n",
       "      <th>index</th>\n",
       "      <th>frequency</th>\n",
       "    </tr>\n",
       "  </thead>\n",
       "  <tbody>\n",
       "    <tr>\n",
       "      <th>0</th>\n",
       "      <td>br br</td>\n",
       "      <td>5306</td>\n",
       "    </tr>\n",
       "    <tr>\n",
       "      <th>1</th>\n",
       "      <td>of the</td>\n",
       "      <td>3669</td>\n",
       "    </tr>\n",
       "    <tr>\n",
       "      <th>2</th>\n",
       "      <td>in the</td>\n",
       "      <td>2647</td>\n",
       "    </tr>\n",
       "    <tr>\n",
       "      <th>3</th>\n",
       "      <td>this movie</td>\n",
       "      <td>1727</td>\n",
       "    </tr>\n",
       "    <tr>\n",
       "      <th>4</th>\n",
       "      <td>to be</td>\n",
       "      <td>1370</td>\n",
       "    </tr>\n",
       "    <tr>\n",
       "      <th>5</th>\n",
       "      <td>the film</td>\n",
       "      <td>1360</td>\n",
       "    </tr>\n",
       "    <tr>\n",
       "      <th>6</th>\n",
       "      <td>the movie</td>\n",
       "      <td>1327</td>\n",
       "    </tr>\n",
       "    <tr>\n",
       "      <th>7</th>\n",
       "      <td>and the</td>\n",
       "      <td>1272</td>\n",
       "    </tr>\n",
       "    <tr>\n",
       "      <th>8</th>\n",
       "      <td>to the</td>\n",
       "      <td>1140</td>\n",
       "    </tr>\n",
       "    <tr>\n",
       "      <th>9</th>\n",
       "      <td>this film</td>\n",
       "      <td>1080</td>\n",
       "    </tr>\n",
       "  </tbody>\n",
       "</table>\n",
       "</div>"
      ],
      "text/plain": [
       "        index  frequency\n",
       "0       br br       5306\n",
       "1      of the       3669\n",
       "2      in the       2647\n",
       "3  this movie       1727\n",
       "4       to be       1370\n",
       "5    the film       1360\n",
       "6   the movie       1327\n",
       "7     and the       1272\n",
       "8      to the       1140\n",
       "9   this film       1080"
      ]
     },
     "execution_count": 3,
     "metadata": {},
     "output_type": "execute_result"
    }
   ],
   "source": [
    "plot_ngram('negative', 2)"
   ]
  },
  {
   "cell_type": "code",
   "execution_count": 4,
   "metadata": {
    "colab": {
     "base_uri": "https://localhost:8080/",
     "height": 391
    },
    "executionInfo": {
     "elapsed": 655,
     "status": "ok",
     "timestamp": 1639940383772,
     "user": {
      "displayName": "Basilis Thiou",
      "photoUrl": "https://lh3.googleusercontent.com/a-/AOh14GiIiPUIeoAu6ZW5gHpTiRRY-KsE1sM1ffpfUk9gog=s64",
      "userId": "13467594205314738941"
     },
     "user_tz": -120
    },
    "id": "csQEJt7x4yD3",
    "outputId": "c52b612e-1755-47c6-a6a9-b6595a413e88"
   },
   "outputs": [
    {
     "name": "stderr",
     "output_type": "stream",
     "text": [
      "C:\\Users\\ROMILOS VLACHOS\\anaconda3\\lib\\site-packages\\seaborn\\_decorators.py:36: FutureWarning: Pass the following variable as a keyword arg: x. From version 0.12, the only valid positional argument will be `data`, and passing other arguments without an explicit keyword will result in an error or misinterpretation.\n",
      "  warnings.warn(\n"
     ]
    },
    {
     "data": {
      "image/png": "[encoded data removed]",
      "text/plain": [
       "<Figure size 288x360 with 1 Axes>"
      ]
     },
     "metadata": {},
     "output_type": "display_data"
    }
   ],
   "source": [
    "import seaborn as sns\n",
    "import matplotlib.pyplot as plt\n",
    "sns.set_style('darkgrid')\n",
    "plt.figure(figsize=(4, 5))\n",
    "sns.countplot(data['sentiment'], palette=['teal', 'orangered'])\n",
    "plt.title('No. of reviews in with each sentiment')\n",
    "plt.xlabel(\"\")\n",
    "plt.ylabel(\"\")\n",
    "plt.show()"
   ]
  },
  {
   "cell_type": "code",
   "execution_count": 5,
   "metadata": {
    "executionInfo": {
     "elapsed": 348,
     "status": "ok",
     "timestamp": 1639940385678,
     "user": {
      "displayName": "Basilis Thiou",
      "photoUrl": "https://lh3.googleusercontent.com/a-/AOh14GiIiPUIeoAu6ZW5gHpTiRRY-KsE1sM1ffpfUk9gog=s64",
      "userId": "13467594205314738941"
     },
     "user_tz": -120
    },
    "id": "FhN7bjY84yD5"
   },
   "outputs": [],
   "source": [
    "data['word_count'] = data['review'].apply(lambda x: len(x.split()))"
   ]
  },
  {
   "cell_type": "code",
   "execution_count": 6,
   "metadata": {
    "executionInfo": {
     "elapsed": 5,
     "status": "ok",
     "timestamp": 1639940386055,
     "user": {
      "displayName": "Basilis Thiou",
      "photoUrl": "https://lh3.googleusercontent.com/a-/AOh14GiIiPUIeoAu6ZW5gHpTiRRY-KsE1sM1ffpfUk9gog=s64",
      "userId": "13467594205314738941"
     },
     "user_tz": -120
    },
    "id": "f_j-Dvu44yD6"
   },
   "outputs": [],
   "source": [
    "data['char count'] = data['review'].apply(lambda x : len(x))"
   ]
  },
  {
   "cell_type": "code",
   "execution_count": 7,
   "metadata": {
    "executionInfo": {
     "elapsed": 277,
     "status": "ok",
     "timestamp": 1639940388730,
     "user": {
      "displayName": "Basilis Thiou",
      "photoUrl": "https://lh3.googleusercontent.com/a-/AOh14GiIiPUIeoAu6ZW5gHpTiRRY-KsE1sM1ffpfUk9gog=s64",
      "userId": "13467594205314738941"
     },
     "user_tz": -120
    },
    "id": "mHKnkiQK4yD7"
   },
   "outputs": [],
   "source": [
    "def average_words(x):\n",
    "    words = x.split()\n",
    "    return sum(len(word) for word in words) / len (words)\n",
    "\n",
    "\n",
    "data['average_word_length'] = data['review'].apply(lambda x : average_words(x))"
   ]
  },
  {
   "cell_type": "code",
   "execution_count": 8,
   "metadata": {
    "colab": {
     "base_uri": "https://localhost:8080/"
    },
    "executionInfo": {
     "elapsed": 393,
     "status": "ok",
     "timestamp": 1639940390391,
     "user": {
      "displayName": "Basilis Thiou",
      "photoUrl": "https://lh3.googleusercontent.com/a-/AOh14GiIiPUIeoAu6ZW5gHpTiRRY-KsE1sM1ffpfUk9gog=s64",
      "userId": "13467594205314738941"
     },
     "user_tz": -120
    },
    "id": "SDxHelhM4yD9",
    "outputId": "33687737-adf6-43c3-9dc6-a5cf69ec4514"
   },
   "outputs": [
    {
     "name": "stderr",
     "output_type": "stream",
     "text": [
      "[nltk_data] Downloading package stopwords to C:\\Users\\ROMILOS\n",
      "[nltk_data]     VLACHOS\\AppData\\Roaming\\nltk_data...\n",
      "[nltk_data]   Package stopwords is already up-to-date!\n"
     ]
    },
    {
     "data": {
      "text/plain": [
       "179"
      ]
     },
     "execution_count": 8,
     "metadata": {},
     "output_type": "execute_result"
    }
   ],
   "source": [
    "import nltk\n",
    "nltk.download('stopwords')\n",
    "\n",
    "stop_words = stopwords.words('english')\n",
    "len(stop_words)"
   ]
  },
  {
   "cell_type": "code",
   "execution_count": 9,
   "metadata": {
    "executionInfo": {
     "elapsed": 3055,
     "status": "ok",
     "timestamp": 1639940400833,
     "user": {
      "displayName": "Basilis Thiou",
      "photoUrl": "https://lh3.googleusercontent.com/a-/AOh14GiIiPUIeoAu6ZW5gHpTiRRY-KsE1sM1ffpfUk9gog=s64",
      "userId": "13467594205314738941"
     },
     "user_tz": -120
    },
    "id": "DTUh44xO4yD-"
   },
   "outputs": [],
   "source": [
    "data['stop_word_count'] = data['review'].apply(lambda x: len([word for word in x.split() if word.lower() in stop_words]))"
   ]
  },
  {
   "cell_type": "code",
   "execution_count": 10,
   "metadata": {
    "executionInfo": {
     "elapsed": 13,
     "status": "ok",
     "timestamp": 1639940400837,
     "user": {
      "displayName": "Basilis Thiou",
      "photoUrl": "https://lh3.googleusercontent.com/a-/AOh14GiIiPUIeoAu6ZW5gHpTiRRY-KsE1sM1ffpfUk9gog=s64",
      "userId": "13467594205314738941"
     },
     "user_tz": -120
    },
    "id": "J1OTItI54yD_"
   },
   "outputs": [],
   "source": [
    "data['stop_word_rate'] = data['stop_word_count']/ data['word_count']"
   ]
  },
  {
   "cell_type": "code",
   "execution_count": 11,
   "metadata": {
    "colab": {
     "base_uri": "https://localhost:8080/",
     "height": 354
    },
    "executionInfo": {
     "elapsed": 14,
     "status": "ok",
     "timestamp": 1639940400841,
     "user": {
      "displayName": "Basilis Thiou",
      "photoUrl": "https://lh3.googleusercontent.com/a-/AOh14GiIiPUIeoAu6ZW5gHpTiRRY-KsE1sM1ffpfUk9gog=s64",
      "userId": "13467594205314738941"
     },
     "user_tz": -120
    },
    "id": "GeS2NyVM4yEA",
    "outputId": "537255ef-e28d-4d0b-a160-09bf95632cb6"
   },
   "outputs": [
    {
     "data": {
      "text/html": [
       "<div>\n",
       "<style scoped>\n",
       "    .dataframe tbody tr th:only-of-type {\n",
       "        vertical-align: middle;\n",
       "    }\n",
       "\n",
       "    .dataframe tbody tr th {\n",
       "        vertical-align: top;\n",
       "    }\n",
       "\n",
       "    .dataframe thead th {\n",
       "        text-align: right;\n",
       "    }\n",
       "</style>\n",
       "<table border=\"1\" class=\"dataframe\">\n",
       "  <thead>\n",
       "    <tr style=\"text-align: right;\">\n",
       "      <th></th>\n",
       "      <th>review</th>\n",
       "      <th>sentiment</th>\n",
       "      <th>word_count</th>\n",
       "      <th>char count</th>\n",
       "      <th>average_word_length</th>\n",
       "      <th>stop_word_count</th>\n",
       "      <th>stop_word_rate</th>\n",
       "    </tr>\n",
       "  </thead>\n",
       "  <tbody>\n",
       "    <tr>\n",
       "      <th>33003</th>\n",
       "      <td>Set in Paris in the year 1910, a retired old r...</td>\n",
       "      <td>positive</td>\n",
       "      <td>171</td>\n",
       "      <td>960</td>\n",
       "      <td>4.619883</td>\n",
       "      <td>66</td>\n",
       "      <td>0.385965</td>\n",
       "    </tr>\n",
       "    <tr>\n",
       "      <th>12172</th>\n",
       "      <td>Basic structure of a story: Beginning, Middle,...</td>\n",
       "      <td>negative</td>\n",
       "      <td>319</td>\n",
       "      <td>1813</td>\n",
       "      <td>4.686520</td>\n",
       "      <td>132</td>\n",
       "      <td>0.413793</td>\n",
       "    </tr>\n",
       "    <tr>\n",
       "      <th>5192</th>\n",
       "      <td>An odd, willfully skewed biopic of Dyan Thomas...</td>\n",
       "      <td>negative</td>\n",
       "      <td>188</td>\n",
       "      <td>1146</td>\n",
       "      <td>5.101064</td>\n",
       "      <td>76</td>\n",
       "      <td>0.404255</td>\n",
       "    </tr>\n",
       "    <tr>\n",
       "      <th>32511</th>\n",
       "      <td>Okay, you have:&lt;br /&gt;&lt;br /&gt;Penelope Keith as M...</td>\n",
       "      <td>negative</td>\n",
       "      <td>557</td>\n",
       "      <td>3277</td>\n",
       "      <td>4.885099</td>\n",
       "      <td>220</td>\n",
       "      <td>0.394973</td>\n",
       "    </tr>\n",
       "    <tr>\n",
       "      <th>43723</th>\n",
       "      <td>The larger-than-life figures of Wyatt Earp and...</td>\n",
       "      <td>positive</td>\n",
       "      <td>393</td>\n",
       "      <td>2582</td>\n",
       "      <td>5.572519</td>\n",
       "      <td>150</td>\n",
       "      <td>0.381679</td>\n",
       "    </tr>\n",
       "  </tbody>\n",
       "</table>\n",
       "</div>"
      ],
      "text/plain": [
       "                                                  review sentiment  \\\n",
       "33003  Set in Paris in the year 1910, a retired old r...  positive   \n",
       "12172  Basic structure of a story: Beginning, Middle,...  negative   \n",
       "5192   An odd, willfully skewed biopic of Dyan Thomas...  negative   \n",
       "32511  Okay, you have:<br /><br />Penelope Keith as M...  negative   \n",
       "43723  The larger-than-life figures of Wyatt Earp and...  positive   \n",
       "\n",
       "       word_count  char count  average_word_length  stop_word_count  \\\n",
       "33003         171         960             4.619883               66   \n",
       "12172         319        1813             4.686520              132   \n",
       "5192          188        1146             5.101064               76   \n",
       "32511         557        3277             4.885099              220   \n",
       "43723         393        2582             5.572519              150   \n",
       "\n",
       "       stop_word_rate  \n",
       "33003        0.385965  \n",
       "12172        0.413793  \n",
       "5192         0.404255  \n",
       "32511        0.394973  \n",
       "43723        0.381679  "
      ]
     },
     "execution_count": 11,
     "metadata": {},
     "output_type": "execute_result"
    }
   ],
   "source": [
    "data.head()"
   ]
  },
  {
   "cell_type": "code",
   "execution_count": 12,
   "metadata": {
    "colab": {
     "base_uri": "https://localhost:8080/"
    },
    "executionInfo": {
     "elapsed": 258,
     "status": "ok",
     "timestamp": 1639940402564,
     "user": {
      "displayName": "Basilis Thiou",
      "photoUrl": "https://lh3.googleusercontent.com/a-/AOh14GiIiPUIeoAu6ZW5gHpTiRRY-KsE1sM1ffpfUk9gog=s64",
      "userId": "13467594205314738941"
     },
     "user_tz": -120
    },
    "id": "D4iYgrSj4yEB",
    "outputId": "d9c1231b-5b2c-4f46-9971-37206034e652"
   },
   "outputs": [
    {
     "name": "stdout",
     "output_type": "stream",
     "text": [
      "12.290909090909091\n",
      "4.645814445208139\n",
      "521\n",
      "105.3638\n",
      "1186\n",
      "234.7596\n"
     ]
    }
   ],
   "source": [
    "max_value = data[\"average_word_length\"].max()\n",
    "print(max_value)\n",
    "print(data[\"average_word_length\"].mean())\n",
    "\n",
    "max_value = data[\"stop_word_count\"].max()\n",
    "print(max_value)\n",
    "print(data[\"stop_word_count\"].mean())\n",
    "\n",
    "max_value = data[\"word_count\"].max()\n",
    "print(max_value)\n",
    "print(data[\"word_count\"].mean())"
   ]
  },
  {
   "cell_type": "code",
   "execution_count": 13,
   "metadata": {
    "colab": {
     "base_uri": "https://localhost:8080/"
    },
    "executionInfo": {
     "elapsed": 5,
     "status": "ok",
     "timestamp": 1639940402824,
     "user": {
      "displayName": "Basilis Thiou",
      "photoUrl": "https://lh3.googleusercontent.com/a-/AOh14GiIiPUIeoAu6ZW5gHpTiRRY-KsE1sM1ffpfUk9gog=s64",
      "userId": "13467594205314738941"
     },
     "user_tz": -120
    },
    "id": "B7Csux7t4yEB",
    "outputId": "82f32d08-97c3-4f4d-85f8-4fc8fce4bccc"
   },
   "outputs": [
    {
     "name": "stdout",
     "output_type": "stream",
     "text": [
      "<class 'pandas.core.frame.DataFrame'>\n",
      "Int64Index: 5000 entries, 33003 to 15561\n",
      "Data columns (total 7 columns):\n",
      " #   Column               Non-Null Count  Dtype  \n",
      "---  ------               --------------  -----  \n",
      " 0   review               5000 non-null   object \n",
      " 1   sentiment            5000 non-null   object \n",
      " 2   word_count           5000 non-null   int64  \n",
      " 3   char count           5000 non-null   int64  \n",
      " 4   average_word_length  5000 non-null   float64\n",
      " 5   stop_word_count      5000 non-null   int64  \n",
      " 6   stop_word_rate       5000 non-null   float64\n",
      "dtypes: float64(2), int64(3), object(2)\n",
      "memory usage: 472.5+ KB\n"
     ]
    }
   ],
   "source": [
    "data.info()"
   ]
  },
  {
   "cell_type": "code",
   "execution_count": 14,
   "metadata": {
    "executionInfo": {
     "elapsed": 4,
     "status": "ok",
     "timestamp": 1639940403195,
     "user": {
      "displayName": "Basilis Thiou",
      "photoUrl": "https://lh3.googleusercontent.com/a-/AOh14GiIiPUIeoAu6ZW5gHpTiRRY-KsE1sM1ffpfUk9gog=s64",
      "userId": "13467594205314738941"
     },
     "user_tz": -120
    },
    "id": "3a71ZXJJ4yEC"
   },
   "outputs": [],
   "source": [
    "data.replace({'sentiment':{'positive':1,'negative':-1}},inplace=True)"
   ]
  },
  {
   "cell_type": "code",
   "execution_count": 15,
   "metadata": {
    "colab": {
     "base_uri": "https://localhost:8080/",
     "height": 300
    },
    "executionInfo": {
     "elapsed": 9,
     "status": "ok",
     "timestamp": 1639940403840,
     "user": {
      "displayName": "Basilis Thiou",
      "photoUrl": "https://lh3.googleusercontent.com/a-/AOh14GiIiPUIeoAu6ZW5gHpTiRRY-KsE1sM1ffpfUk9gog=s64",
      "userId": "13467594205314738941"
     },
     "user_tz": -120
    },
    "id": "5JxGD6eW4yEC",
    "outputId": "9ddf5246-ee52-4489-9111-86a631a4ad8d"
   },
   "outputs": [
    {
     "data": {
      "text/html": [
       "<div>\n",
       "<style scoped>\n",
       "    .dataframe tbody tr th:only-of-type {\n",
       "        vertical-align: middle;\n",
       "    }\n",
       "\n",
       "    .dataframe tbody tr th {\n",
       "        vertical-align: top;\n",
       "    }\n",
       "\n",
       "    .dataframe thead th {\n",
       "        text-align: right;\n",
       "    }\n",
       "</style>\n",
       "<table border=\"1\" class=\"dataframe\">\n",
       "  <thead>\n",
       "    <tr style=\"text-align: right;\">\n",
       "      <th></th>\n",
       "      <th>sentiment</th>\n",
       "      <th>word_count</th>\n",
       "      <th>char count</th>\n",
       "      <th>average_word_length</th>\n",
       "      <th>stop_word_count</th>\n",
       "      <th>stop_word_rate</th>\n",
       "    </tr>\n",
       "  </thead>\n",
       "  <tbody>\n",
       "    <tr>\n",
       "      <th>count</th>\n",
       "      <td>5000.000000</td>\n",
       "      <td>5000.000000</td>\n",
       "      <td>5000.000000</td>\n",
       "      <td>5000.000000</td>\n",
       "      <td>5000.00000</td>\n",
       "      <td>5000.000000</td>\n",
       "    </tr>\n",
       "    <tr>\n",
       "      <th>mean</th>\n",
       "      <td>-0.004800</td>\n",
       "      <td>234.759600</td>\n",
       "      <td>1330.670200</td>\n",
       "      <td>4.645814</td>\n",
       "      <td>105.36380</td>\n",
       "      <td>0.449713</td>\n",
       "    </tr>\n",
       "    <tr>\n",
       "      <th>std</th>\n",
       "      <td>1.000088</td>\n",
       "      <td>174.456442</td>\n",
       "      <td>1007.330815</td>\n",
       "      <td>0.344750</td>\n",
       "      <td>78.66038</td>\n",
       "      <td>0.047934</td>\n",
       "    </tr>\n",
       "    <tr>\n",
       "      <th>min</th>\n",
       "      <td>-1.000000</td>\n",
       "      <td>8.000000</td>\n",
       "      <td>49.000000</td>\n",
       "      <td>3.333333</td>\n",
       "      <td>3.00000</td>\n",
       "      <td>0.175000</td>\n",
       "    </tr>\n",
       "    <tr>\n",
       "      <th>25%</th>\n",
       "      <td>-1.000000</td>\n",
       "      <td>126.000000</td>\n",
       "      <td>700.000000</td>\n",
       "      <td>4.435989</td>\n",
       "      <td>56.00000</td>\n",
       "      <td>0.420000</td>\n",
       "    </tr>\n",
       "    <tr>\n",
       "      <th>50%</th>\n",
       "      <td>-1.000000</td>\n",
       "      <td>176.000000</td>\n",
       "      <td>989.000000</td>\n",
       "      <td>4.637097</td>\n",
       "      <td>80.00000</td>\n",
       "      <td>0.450777</td>\n",
       "    </tr>\n",
       "    <tr>\n",
       "      <th>75%</th>\n",
       "      <td>1.000000</td>\n",
       "      <td>287.000000</td>\n",
       "      <td>1628.000000</td>\n",
       "      <td>4.842461</td>\n",
       "      <td>127.00000</td>\n",
       "      <td>0.480324</td>\n",
       "    </tr>\n",
       "    <tr>\n",
       "      <th>max</th>\n",
       "      <td>1.000000</td>\n",
       "      <td>1186.000000</td>\n",
       "      <td>7268.000000</td>\n",
       "      <td>12.290909</td>\n",
       "      <td>521.00000</td>\n",
       "      <td>0.638298</td>\n",
       "    </tr>\n",
       "  </tbody>\n",
       "</table>\n",
       "</div>"
      ],
      "text/plain": [
       "         sentiment   word_count   char count  average_word_length  \\\n",
       "count  5000.000000  5000.000000  5000.000000          5000.000000   \n",
       "mean     -0.004800   234.759600  1330.670200             4.645814   \n",
       "std       1.000088   174.456442  1007.330815             0.344750   \n",
       "min      -1.000000     8.000000    49.000000             3.333333   \n",
       "25%      -1.000000   126.000000   700.000000             4.435989   \n",
       "50%      -1.000000   176.000000   989.000000             4.637097   \n",
       "75%       1.000000   287.000000  1628.000000             4.842461   \n",
       "max       1.000000  1186.000000  7268.000000            12.290909   \n",
       "\n",
       "       stop_word_count  stop_word_rate  \n",
       "count       5000.00000     5000.000000  \n",
       "mean         105.36380        0.449713  \n",
       "std           78.66038        0.047934  \n",
       "min            3.00000        0.175000  \n",
       "25%           56.00000        0.420000  \n",
       "50%           80.00000        0.450777  \n",
       "75%          127.00000        0.480324  \n",
       "max          521.00000        0.638298  "
      ]
     },
     "execution_count": 15,
     "metadata": {},
     "output_type": "execute_result"
    }
   ],
   "source": [
    "data.describe()"
   ]
  },
  {
   "cell_type": "code",
   "execution_count": 16,
   "metadata": {
    "colab": {
     "base_uri": "https://localhost:8080/"
    },
    "executionInfo": {
     "elapsed": 7,
     "status": "ok",
     "timestamp": 1639940404163,
     "user": {
      "displayName": "Basilis Thiou",
      "photoUrl": "https://lh3.googleusercontent.com/a-/AOh14GiIiPUIeoAu6ZW5gHpTiRRY-KsE1sM1ffpfUk9gog=s64",
      "userId": "13467594205314738941"
     },
     "user_tz": -120
    },
    "id": "LZmRY30S4yED",
    "outputId": "f4d7bce1-b4e4-4754-f861-1e059768450b"
   },
   "outputs": [
    {
     "data": {
      "text/plain": [
       "0"
      ]
     },
     "execution_count": 16,
     "metadata": {},
     "output_type": "execute_result"
    }
   ],
   "source": [
    "data[\"sentiment\"].isna().sum()"
   ]
  },
  {
   "cell_type": "code",
   "execution_count": 17,
   "metadata": {
    "colab": {
     "base_uri": "https://localhost:8080/"
    },
    "executionInfo": {
     "elapsed": 9,
     "status": "ok",
     "timestamp": 1639940404975,
     "user": {
      "displayName": "Basilis Thiou",
      "photoUrl": "https://lh3.googleusercontent.com/a-/AOh14GiIiPUIeoAu6ZW5gHpTiRRY-KsE1sM1ffpfUk9gog=s64",
      "userId": "13467594205314738941"
     },
     "user_tz": -120
    },
    "id": "JUukUBGk4yEE",
    "outputId": "16d72394-34d8-4dc9-df8a-1d846418c049"
   },
   "outputs": [
    {
     "data": {
      "text/plain": [
       "0"
      ]
     },
     "execution_count": 17,
     "metadata": {},
     "output_type": "execute_result"
    }
   ],
   "source": [
    "data[\"review\"].isna().sum()"
   ]
  },
  {
   "cell_type": "code",
   "execution_count": 18,
   "metadata": {
    "colab": {
     "base_uri": "https://localhost:8080/"
    },
    "executionInfo": {
     "elapsed": 7,
     "status": "ok",
     "timestamp": 1639940405227,
     "user": {
      "displayName": "Basilis Thiou",
      "photoUrl": "https://lh3.googleusercontent.com/a-/AOh14GiIiPUIeoAu6ZW5gHpTiRRY-KsE1sM1ffpfUk9gog=s64",
      "userId": "13467594205314738941"
     },
     "user_tz": -120
    },
    "id": "rIMScP-I4yEF",
    "outputId": "5873f043-b4c9-4aef-96ff-ff5393649ba3"
   },
   "outputs": [
    {
     "data": {
      "text/plain": [
       "-1    2512\n",
       " 1    2488\n",
       "Name: sentiment, dtype: int64"
      ]
     },
     "execution_count": 18,
     "metadata": {},
     "output_type": "execute_result"
    }
   ],
   "source": [
    "data[\"sentiment\"].value_counts()"
   ]
  },
  {
   "cell_type": "code",
   "execution_count": 19,
   "metadata": {
    "colab": {
     "base_uri": "https://localhost:8080/"
    },
    "executionInfo": {
     "elapsed": 13,
     "status": "ok",
     "timestamp": 1639940405509,
     "user": {
      "displayName": "Basilis Thiou",
      "photoUrl": "https://lh3.googleusercontent.com/a-/AOh14GiIiPUIeoAu6ZW5gHpTiRRY-KsE1sM1ffpfUk9gog=s64",
      "userId": "13467594205314738941"
     },
     "user_tz": -120
    },
    "id": "YOAxbDLD4yEF",
    "outputId": "689cb4e1-f134-417a-e26e-ef24ad4c6a3b"
   },
   "outputs": [
    {
     "data": {
      "text/plain": [
       "65     67\n",
       "69     67\n",
       "67     67\n",
       "70     66\n",
       "63     66\n",
       "       ..\n",
       "6       1\n",
       "521     1\n",
       "473     1\n",
       "469     1\n",
       "479     1\n",
       "Name: stop_word_count, Length: 402, dtype: int64"
      ]
     },
     "execution_count": 19,
     "metadata": {},
     "output_type": "execute_result"
    }
   ],
   "source": [
    "data[\"stop_word_count\"].value_counts()"
   ]
  },
  {
   "cell_type": "code",
   "execution_count": 20,
   "metadata": {
    "colab": {
     "base_uri": "https://localhost:8080/"
    },
    "executionInfo": {
     "elapsed": 8,
     "status": "ok",
     "timestamp": 1639940405918,
     "user": {
      "displayName": "Basilis Thiou",
      "photoUrl": "https://lh3.googleusercontent.com/a-/AOh14GiIiPUIeoAu6ZW5gHpTiRRY-KsE1sM1ffpfUk9gog=s64",
      "userId": "13467594205314738941"
     },
     "user_tz": -120
    },
    "id": "3AF5Gtpt4yEG",
    "outputId": "0929c934-2a3e-4f8f-8b7c-38e9e58e9e16"
   },
   "outputs": [
    {
     "data": {
      "text/plain": [
       "120    43\n",
       "126    40\n",
       "124    39\n",
       "123    38\n",
       "131    37\n",
       "       ..\n",
       "636     1\n",
       "628     1\n",
       "478     1\n",
       "616     1\n",
       "999     1\n",
       "Name: word_count, Length: 721, dtype: int64"
      ]
     },
     "execution_count": 20,
     "metadata": {},
     "output_type": "execute_result"
    }
   ],
   "source": [
    "data[\"word_count\"].value_counts()"
   ]
  },
  {
   "cell_type": "code",
   "execution_count": 21,
   "metadata": {
    "colab": {
     "base_uri": "https://localhost:8080/",
     "height": 285
    },
    "executionInfo": {
     "elapsed": 1320,
     "status": "ok",
     "timestamp": 1639940407752,
     "user": {
      "displayName": "Basilis Thiou",
      "photoUrl": "https://lh3.googleusercontent.com/a-/AOh14GiIiPUIeoAu6ZW5gHpTiRRY-KsE1sM1ffpfUk9gog=s64",
      "userId": "13467594205314738941"
     },
     "user_tz": -120
    },
    "id": "XTyhlIOI4yEG",
    "outputId": "8faee6bb-879e-42e7-e731-8a24d78553b3"
   },
   "outputs": [
    {
     "data": {
      "text/plain": [
       "<BarContainer object of 402 artists>"
      ]
     },
     "execution_count": 21,
     "metadata": {},
     "output_type": "execute_result"
    },
    {
     "data": {
      "image/png": "[encoded data removed]",
      "text/plain": [
       "<Figure size 432x288 with 1 Axes>"
      ]
     },
     "metadata": {},
     "output_type": "display_data"
    }
   ],
   "source": [
    "import matplotlib.pyplot as plt\n",
    "\n",
    "plt.bar(x = data.stop_word_count.value_counts().index, height = data.stop_word_count.value_counts(), width = 100)"
   ]
  },
  {
   "cell_type": "code",
   "execution_count": 22,
   "metadata": {
    "colab": {
     "base_uri": "https://localhost:8080/",
     "height": 282
    },
    "executionInfo": {
     "elapsed": 1781,
     "status": "ok",
     "timestamp": 1639940409526,
     "user": {
      "displayName": "Basilis Thiou",
      "photoUrl": "https://lh3.googleusercontent.com/a-/AOh14GiIiPUIeoAu6ZW5gHpTiRRY-KsE1sM1ffpfUk9gog=s64",
      "userId": "13467594205314738941"
     },
     "user_tz": -120
    },
    "id": "CDWuMnj94yEH",
    "outputId": "4ed6cf8f-9158-4ce9-e0b9-6647209a0ed5"
   },
   "outputs": [
    {
     "data": {
      "text/plain": [
       "<BarContainer object of 721 artists>"
      ]
     },
     "execution_count": 22,
     "metadata": {},
     "output_type": "execute_result"
    },
    {
     "data": {
      "image/png": "[encoded data removed]",
      "text/plain": [
       "<Figure size 432x288 with 1 Axes>"
      ]
     },
     "metadata": {},
     "output_type": "display_data"
    }
   ],
   "source": [
    "plt.bar(x = data.word_count.value_counts().index, height = data.word_count.value_counts(), width = 100)"
   ]
  },
  {
   "cell_type": "code",
   "execution_count": 23,
   "metadata": {
    "colab": {
     "base_uri": "https://localhost:8080/",
     "height": 143
    },
    "executionInfo": {
     "elapsed": 24,
     "status": "ok",
     "timestamp": 1639940409529,
     "user": {
      "displayName": "Basilis Thiou",
      "photoUrl": "https://lh3.googleusercontent.com/a-/AOh14GiIiPUIeoAu6ZW5gHpTiRRY-KsE1sM1ffpfUk9gog=s64",
      "userId": "13467594205314738941"
     },
     "user_tz": -120
    },
    "id": "h9aHBUs24yEI",
    "outputId": "e50ae871-6786-45b5-f3ee-43ff3fae1c45"
   },
   "outputs": [
    {
     "data": {
      "text/html": [
       "<div>\n",
       "<style scoped>\n",
       "    .dataframe tbody tr th:only-of-type {\n",
       "        vertical-align: middle;\n",
       "    }\n",
       "\n",
       "    .dataframe tbody tr th {\n",
       "        vertical-align: top;\n",
       "    }\n",
       "\n",
       "    .dataframe thead th {\n",
       "        text-align: right;\n",
       "    }\n",
       "</style>\n",
       "<table border=\"1\" class=\"dataframe\">\n",
       "  <thead>\n",
       "    <tr style=\"text-align: right;\">\n",
       "      <th></th>\n",
       "      <th>word_count</th>\n",
       "      <th>char count</th>\n",
       "      <th>average_word_length</th>\n",
       "      <th>stop_word_count</th>\n",
       "      <th>stop_word_rate</th>\n",
       "    </tr>\n",
       "    <tr>\n",
       "      <th>sentiment</th>\n",
       "      <th></th>\n",
       "      <th></th>\n",
       "      <th></th>\n",
       "      <th></th>\n",
       "      <th></th>\n",
       "    </tr>\n",
       "  </thead>\n",
       "  <tbody>\n",
       "    <tr>\n",
       "      <th>-1</th>\n",
       "      <td>584098</td>\n",
       "      <td>3295623</td>\n",
       "      <td>11626.359695</td>\n",
       "      <td>263449</td>\n",
       "      <td>1133.585184</td>\n",
       "    </tr>\n",
       "    <tr>\n",
       "      <th>1</th>\n",
       "      <td>589700</td>\n",
       "      <td>3357728</td>\n",
       "      <td>11602.712531</td>\n",
       "      <td>263370</td>\n",
       "      <td>1114.978131</td>\n",
       "    </tr>\n",
       "  </tbody>\n",
       "</table>\n",
       "</div>"
      ],
      "text/plain": [
       "           word_count  char count  average_word_length  stop_word_count  \\\n",
       "sentiment                                                                 \n",
       "-1             584098     3295623         11626.359695           263449   \n",
       " 1             589700     3357728         11602.712531           263370   \n",
       "\n",
       "           stop_word_rate  \n",
       "sentiment                  \n",
       "-1            1133.585184  \n",
       " 1            1114.978131  "
      ]
     },
     "execution_count": 23,
     "metadata": {},
     "output_type": "execute_result"
    }
   ],
   "source": [
    "data.groupby('sentiment').sum()"
   ]
  },
  {
   "cell_type": "code",
   "execution_count": 24,
   "metadata": {
    "colab": {
     "base_uri": "https://localhost:8080/"
    },
    "executionInfo": {
     "elapsed": 23,
     "status": "ok",
     "timestamp": 1639940409531,
     "user": {
      "displayName": "Basilis Thiou",
      "photoUrl": "https://lh3.googleusercontent.com/a-/AOh14GiIiPUIeoAu6ZW5gHpTiRRY-KsE1sM1ffpfUk9gog=s64",
      "userId": "13467594205314738941"
     },
     "user_tz": -120
    },
    "id": "CCONMtgK4yEI",
    "outputId": "793255e2-b263-4436-973c-2d62110a747c"
   },
   "outputs": [
    {
     "name": "stderr",
     "output_type": "stream",
     "text": [
      "[nltk_data] Downloading package stopwords to C:\\Users\\ROMILOS\n",
      "[nltk_data]     VLACHOS\\AppData\\Roaming\\nltk_data...\n",
      "[nltk_data]   Package stopwords is already up-to-date!\n"
     ]
    }
   ],
   "source": [
    "import nltk\n",
    "nltk.download('stopwords')\n",
    "\n",
    "stop_words = set(stopwords.words('english'))\n",
    "stop_words.update([\"br\", \"href\"])"
   ]
  },
  {
   "cell_type": "code",
   "execution_count": 25,
   "metadata": {
    "executionInfo": {
     "elapsed": 6653,
     "status": "ok",
     "timestamp": 1639940416165,
     "user": {
      "displayName": "Basilis Thiou",
      "photoUrl": "https://lh3.googleusercontent.com/a-/AOh14GiIiPUIeoAu6ZW5gHpTiRRY-KsE1sM1ffpfUk9gog=s64",
      "userId": "13467594205314738941"
     },
     "user_tz": -120
    },
    "id": "OwK2nIZS4yEJ"
   },
   "outputs": [],
   "source": [
    "from wordcloud import WordCloud, STOPWORDS\n",
    "textt = \" \".join(x for x in data.review)\n",
    "wordcloud = WordCloud(stopwords=stop_words).generate(textt)"
   ]
  },
  {
   "cell_type": "code",
   "execution_count": 26,
   "metadata": {
    "colab": {
     "base_uri": "https://localhost:8080/",
     "height": 198
    },
    "executionInfo": {
     "elapsed": 845,
     "status": "ok",
     "timestamp": 1639940417000,
     "user": {
      "displayName": "Basilis Thiou",
      "photoUrl": "https://lh3.googleusercontent.com/a-/AOh14GiIiPUIeoAu6ZW5gHpTiRRY-KsE1sM1ffpfUk9gog=s64",
      "userId": "13467594205314738941"
     },
     "user_tz": -120
    },
    "id": "l1ON6WZc4yEJ",
    "outputId": "6b4a5356-2fdd-49e1-9078-f7a39e37cfa0"
   },
   "outputs": [
    {
     "data": {
      "image/png": "[encoded data removed]",
      "text/plain": [
       "<Figure size 432x288 with 1 Axes>"
      ]
     },
     "metadata": {},
     "output_type": "display_data"
    }
   ],
   "source": [
    "plt.imshow(wordcloud, interpolation='bilinear')\n",
    "plt.axis(\"off\")\n",
    "plt.savefig('wordcloud101.png')\n",
    "plt.show()"
   ]
  },
  {
   "cell_type": "code",
   "execution_count": 27,
   "metadata": {
    "executionInfo": {
     "elapsed": 1385,
     "status": "ok",
     "timestamp": 1639940418377,
     "user": {
      "displayName": "Basilis Thiou",
      "photoUrl": "https://lh3.googleusercontent.com/a-/AOh14GiIiPUIeoAu6ZW5gHpTiRRY-KsE1sM1ffpfUk9gog=s64",
      "userId": "13467594205314738941"
     },
     "user_tz": -120
    },
    "id": "4nIVLviU4yEJ"
   },
   "outputs": [],
   "source": [
    "def remove_punctuation(text):\n",
    "    final = \"\".join(u for u in text if u not in (\"?\", \".\", \";\", \":\",  \"!\",'\"', \"<\", \">\",\"/\", \",\", \"'\"))\n",
    "    return final\n",
    "\n",
    "data['review'] = data['review'].apply(remove_punctuation)"
   ]
  },
  {
   "cell_type": "code",
   "execution_count": 28,
   "metadata": {
    "executionInfo": {
     "elapsed": 7920,
     "status": "ok",
     "timestamp": 1639940426291,
     "user": {
      "displayName": "Basilis Thiou",
      "photoUrl": "https://lh3.googleusercontent.com/a-/AOh14GiIiPUIeoAu6ZW5gHpTiRRY-KsE1sM1ffpfUk9gog=s64",
      "userId": "13467594205314738941"
     },
     "user_tz": -120
    },
    "id": "Qi4MTJgf4yEK"
   },
   "outputs": [],
   "source": [
    "import nltk\n",
    "from sklearn.feature_extraction.text import CountVectorizer\n",
    "from sklearn.feature_extraction.text import TfidfVectorizer\n",
    "from sklearn.preprocessing import LabelBinarizer\n",
    "from nltk.corpus import stopwords\n",
    "from nltk.stem.porter import PorterStemmer\n",
    "from wordcloud import WordCloud,STOPWORDS\n",
    "from nltk.stem import WordNetLemmatizer\n",
    "from nltk.tokenize import word_tokenize,sent_tokenize\n",
    "from bs4 import BeautifulSoup\n",
    "import spacy\n",
    "import re,string,unicodedata\n",
    "from nltk.tokenize.toktok import ToktokTokenizer\n",
    "from nltk.stem import LancasterStemmer,WordNetLemmatizer\n",
    "from sklearn.linear_model import LogisticRegression,SGDClassifier\n",
    "from sklearn.naive_bayes import MultinomialNB\n",
    "from sklearn.svm import SVC\n",
    "from sklearn.metrics import classification_report,confusion_matrix,accuracy_score\n",
    "\n",
    "stopword_list=nltk.corpus.stopwords.words('english')\n",
    "\n",
    "def remove_stopwords(text, is_lower_case=False):\n",
    "    tokenizer=ToktokTokenizer()\n",
    "    tokens = tokenizer.tokenize(text)\n",
    "    tokens = [token.strip() for token in tokens]\n",
    "    if is_lower_case:\n",
    "        filtered_tokens = [token for token in tokens if token not in stopword_list]\n",
    "    else:\n",
    "        filtered_tokens = [token for token in tokens if token.lower() not in stopword_list]\n",
    "    filtered_text = ' '.join(filtered_tokens)    \n",
    "    return filtered_text\n",
    "\n",
    "copied_data=data.copy()\n",
    "#Apply function on review column\n",
    "data['review'] = data['review'].apply(remove_stopwords)\n",
    "    "
   ]
  },
  {
   "cell_type": "code",
   "execution_count": 29,
   "metadata": {
    "executionInfo": {
     "elapsed": 23327,
     "status": "ok",
     "timestamp": 1639940449612,
     "user": {
      "displayName": "Basilis Thiou",
      "photoUrl": "https://lh3.googleusercontent.com/a-/AOh14GiIiPUIeoAu6ZW5gHpTiRRY-KsE1sM1ffpfUk9gog=s64",
      "userId": "13467594205314738941"
     },
     "user_tz": -120
    },
    "id": "2i1aj_jV4yEL"
   },
   "outputs": [],
   "source": [
    "def get_stemmed_text(corpus):\n",
    "    from nltk.stem.porter import PorterStemmer\n",
    "    stemmer = PorterStemmer()\n",
    "    return [' '.join([stemmer.stem(word) for word in review.split()]) for review in corpus]\n",
    "\n",
    "data[\"review\"] = get_stemmed_text(data[\"review\"])"
   ]
  },
  {
   "cell_type": "code",
   "execution_count": 30,
   "metadata": {
    "colab": {
     "base_uri": "https://localhost:8080/",
     "height": 659
    },
    "executionInfo": {
     "elapsed": 25,
     "status": "ok",
     "timestamp": 1639940449616,
     "user": {
      "displayName": "Basilis Thiou",
      "photoUrl": "https://lh3.googleusercontent.com/a-/AOh14GiIiPUIeoAu6ZW5gHpTiRRY-KsE1sM1ffpfUk9gog=s64",
      "userId": "13467594205314738941"
     },
     "user_tz": -120
    },
    "id": "ijweodnu4yEL",
    "outputId": "1b0e4739-d4fd-4ee0-bb59-adf950599fc9"
   },
   "outputs": [
    {
     "data": {
      "text/html": [
       "<div>\n",
       "<style scoped>\n",
       "    .dataframe tbody tr th:only-of-type {\n",
       "        vertical-align: middle;\n",
       "    }\n",
       "\n",
       "    .dataframe tbody tr th {\n",
       "        vertical-align: top;\n",
       "    }\n",
       "\n",
       "    .dataframe thead th {\n",
       "        text-align: right;\n",
       "    }\n",
       "</style>\n",
       "<table border=\"1\" class=\"dataframe\">\n",
       "  <thead>\n",
       "    <tr style=\"text-align: right;\">\n",
       "      <th></th>\n",
       "      <th>review</th>\n",
       "      <th>sentiment</th>\n",
       "      <th>word_count</th>\n",
       "      <th>char count</th>\n",
       "      <th>average_word_length</th>\n",
       "      <th>stop_word_count</th>\n",
       "      <th>stop_word_rate</th>\n",
       "    </tr>\n",
       "  </thead>\n",
       "  <tbody>\n",
       "    <tr>\n",
       "      <th>33003</th>\n",
       "      <td>set pari year 1910 retir old rich opera singer...</td>\n",
       "      <td>1</td>\n",
       "      <td>171</td>\n",
       "      <td>960</td>\n",
       "      <td>4.619883</td>\n",
       "      <td>66</td>\n",
       "      <td>0.385965</td>\n",
       "    </tr>\n",
       "    <tr>\n",
       "      <th>12172</th>\n",
       "      <td>basic structur stori begin middl endbr br some...</td>\n",
       "      <td>-1</td>\n",
       "      <td>319</td>\n",
       "      <td>1813</td>\n",
       "      <td>4.686520</td>\n",
       "      <td>132</td>\n",
       "      <td>0.413793</td>\n",
       "    </tr>\n",
       "    <tr>\n",
       "      <th>5192</th>\n",
       "      <td>odd will skew biopic dyan thoma hear littl doz...</td>\n",
       "      <td>-1</td>\n",
       "      <td>188</td>\n",
       "      <td>1146</td>\n",
       "      <td>5.101064</td>\n",
       "      <td>76</td>\n",
       "      <td>0.404255</td>\n",
       "    </tr>\n",
       "    <tr>\n",
       "      <th>32511</th>\n",
       "      <td>okay havebr br penelop keith miss herringbone-...</td>\n",
       "      <td>-1</td>\n",
       "      <td>557</td>\n",
       "      <td>3277</td>\n",
       "      <td>4.885099</td>\n",
       "      <td>220</td>\n",
       "      <td>0.394973</td>\n",
       "    </tr>\n",
       "    <tr>\n",
       "      <th>43723</th>\n",
       "      <td>larger-than-lif figur wyatt earp bat masterson...</td>\n",
       "      <td>1</td>\n",
       "      <td>393</td>\n",
       "      <td>2582</td>\n",
       "      <td>5.572519</td>\n",
       "      <td>150</td>\n",
       "      <td>0.381679</td>\n",
       "    </tr>\n",
       "    <tr>\n",
       "      <th>...</th>\n",
       "      <td>...</td>\n",
       "      <td>...</td>\n",
       "      <td>...</td>\n",
       "      <td>...</td>\n",
       "      <td>...</td>\n",
       "      <td>...</td>\n",
       "      <td>...</td>\n",
       "    </tr>\n",
       "    <tr>\n",
       "      <th>36805</th>\n",
       "      <td>music decidedli mix none element realli fit to...</td>\n",
       "      <td>1</td>\n",
       "      <td>151</td>\n",
       "      <td>868</td>\n",
       "      <td>4.754967</td>\n",
       "      <td>73</td>\n",
       "      <td>0.483444</td>\n",
       "    </tr>\n",
       "    <tr>\n",
       "      <th>46711</th>\n",
       "      <td>noth better android boast 80 technolog coming-...</td>\n",
       "      <td>1</td>\n",
       "      <td>136</td>\n",
       "      <td>713</td>\n",
       "      <td>4.250000</td>\n",
       "      <td>69</td>\n",
       "      <td>0.507353</td>\n",
       "    </tr>\n",
       "    <tr>\n",
       "      <th>12374</th>\n",
       "      <td>david aam rich good-look guy live new york cit...</td>\n",
       "      <td>1</td>\n",
       "      <td>312</td>\n",
       "      <td>1728</td>\n",
       "      <td>4.541667</td>\n",
       "      <td>146</td>\n",
       "      <td>0.467949</td>\n",
       "    </tr>\n",
       "    <tr>\n",
       "      <th>35086</th>\n",
       "      <td>bore youll fall asleep 20 first minut sorri Mr...</td>\n",
       "      <td>-1</td>\n",
       "      <td>108</td>\n",
       "      <td>636</td>\n",
       "      <td>4.898148</td>\n",
       "      <td>41</td>\n",
       "      <td>0.379630</td>\n",
       "    </tr>\n",
       "    <tr>\n",
       "      <th>15561</th>\n",
       "      <td>man turn dead soldier becom prime suspect undo...</td>\n",
       "      <td>1</td>\n",
       "      <td>110</td>\n",
       "      <td>661</td>\n",
       "      <td>5.018182</td>\n",
       "      <td>45</td>\n",
       "      <td>0.409091</td>\n",
       "    </tr>\n",
       "  </tbody>\n",
       "</table>\n",
       "<p>5000 rows × 7 columns</p>\n",
       "</div>"
      ],
      "text/plain": [
       "                                                  review  sentiment  \\\n",
       "33003  set pari year 1910 retir old rich opera singer...          1   \n",
       "12172  basic structur stori begin middl endbr br some...         -1   \n",
       "5192   odd will skew biopic dyan thoma hear littl doz...         -1   \n",
       "32511  okay havebr br penelop keith miss herringbone-...         -1   \n",
       "43723  larger-than-lif figur wyatt earp bat masterson...          1   \n",
       "...                                                  ...        ...   \n",
       "36805  music decidedli mix none element realli fit to...          1   \n",
       "46711  noth better android boast 80 technolog coming-...          1   \n",
       "12374  david aam rich good-look guy live new york cit...          1   \n",
       "35086  bore youll fall asleep 20 first minut sorri Mr...         -1   \n",
       "15561  man turn dead soldier becom prime suspect undo...          1   \n",
       "\n",
       "       word_count  char count  average_word_length  stop_word_count  \\\n",
       "33003         171         960             4.619883               66   \n",
       "12172         319        1813             4.686520              132   \n",
       "5192          188        1146             5.101064               76   \n",
       "32511         557        3277             4.885099              220   \n",
       "43723         393        2582             5.572519              150   \n",
       "...           ...         ...                  ...              ...   \n",
       "36805         151         868             4.754967               73   \n",
       "46711         136         713             4.250000               69   \n",
       "12374         312        1728             4.541667              146   \n",
       "35086         108         636             4.898148               41   \n",
       "15561         110         661             5.018182               45   \n",
       "\n",
       "       stop_word_rate  \n",
       "33003        0.385965  \n",
       "12172        0.413793  \n",
       "5192         0.404255  \n",
       "32511        0.394973  \n",
       "43723        0.381679  \n",
       "...               ...  \n",
       "36805        0.483444  \n",
       "46711        0.507353  \n",
       "12374        0.467949  \n",
       "35086        0.379630  \n",
       "15561        0.409091  \n",
       "\n",
       "[5000 rows x 7 columns]"
      ]
     },
     "execution_count": 30,
     "metadata": {},
     "output_type": "execute_result"
    }
   ],
   "source": [
    "data"
   ]
  },
  {
   "cell_type": "code",
   "execution_count": 31,
   "metadata": {
    "executionInfo": {
     "elapsed": 21,
     "status": "ok",
     "timestamp": 1639940449617,
     "user": {
      "displayName": "Basilis Thiou",
      "photoUrl": "https://lh3.googleusercontent.com/a-/AOh14GiIiPUIeoAu6ZW5gHpTiRRY-KsE1sM1ffpfUk9gog=s64",
      "userId": "13467594205314738941"
     },
     "user_tz": -120
    },
    "id": "dK4Q74kk4yEL"
   },
   "outputs": [],
   "source": [
    "index = data.index\n",
    "data['random_number'] = np.random.randn(len(index))\n",
    "train = data[data['random_number'] <= 0.8]\n",
    "test = data[data['random_number'] > 0.8]"
   ]
  },
  {
   "cell_type": "code",
   "execution_count": 32,
   "metadata": {
    "executionInfo": {
     "elapsed": 6746,
     "status": "ok",
     "timestamp": 1639940456342,
     "user": {
      "displayName": "Basilis Thiou",
      "photoUrl": "https://lh3.googleusercontent.com/a-/AOh14GiIiPUIeoAu6ZW5gHpTiRRY-KsE1sM1ffpfUk9gog=s64",
      "userId": "13467594205314738941"
     },
     "user_tz": -120
    },
    "id": "pMyYl0hQ4yEM"
   },
   "outputs": [],
   "source": [
    "from sklearn.feature_extraction.text import CountVectorizer\n",
    "vectorizer = CountVectorizer(min_df=0,max_df=1,token_pattern=r'\\b\\w+\\b',ngram_range=(1, 2))\n",
    "train_matrix = vectorizer.fit_transform(train['review'])\n",
    "test_matrix = vectorizer.transform(test['review'])"
   ]
  },
  {
   "cell_type": "code",
   "execution_count": 33,
   "metadata": {
    "colab": {
     "base_uri": "https://localhost:8080/"
    },
    "executionInfo": {
     "elapsed": 4112,
     "status": "ok",
     "timestamp": 1639940460450,
     "user": {
      "displayName": "Basilis Thiou",
      "photoUrl": "https://lh3.googleusercontent.com/a-/AOh14GiIiPUIeoAu6ZW5gHpTiRRY-KsE1sM1ffpfUk9gog=s64",
      "userId": "13467594205314738941"
     },
     "user_tz": -120
    },
    "id": "NClzvzwH4yEM",
    "outputId": "461834d8-3ef5-415b-fe4a-a60cc1307098"
   },
   "outputs": [
    {
     "data": {
      "text/plain": [
       "array([ 1, -1,  1, ..., -1,  1,  1], dtype=int64)"
      ]
     },
     "execution_count": 33,
     "metadata": {},
     "output_type": "execute_result"
    }
   ],
   "source": [
    "# Logistic Regression\n",
    "from sklearn.linear_model import LogisticRegression\n",
    "lr = LogisticRegression()\n",
    "X_train = train_matrix\n",
    "X_test = test_matrix\n",
    "y_train = train['sentiment']\n",
    "y_test = test['sentiment']\n",
    "lr.fit(X_train,y_train)\n",
    "predictions = lr.predict(X_test)\n",
    "predictions"
   ]
  },
  {
   "cell_type": "code",
   "execution_count": 34,
   "metadata": {
    "colab": {
     "base_uri": "https://localhost:8080/"
    },
    "executionInfo": {
     "elapsed": 30,
     "status": "ok",
     "timestamp": 1639940460452,
     "user": {
      "displayName": "Basilis Thiou",
      "photoUrl": "https://lh3.googleusercontent.com/a-/AOh14GiIiPUIeoAu6ZW5gHpTiRRY-KsE1sM1ffpfUk9gog=s64",
      "userId": "13467594205314738941"
     },
     "user_tz": -120
    },
    "id": "JFV0IX5V4yEN",
    "outputId": "5ea3a1ab-b156-42ec-b4fb-917b00d659ff"
   },
   "outputs": [
    {
     "name": "stdout",
     "output_type": "stream",
     "text": [
      "              precision    recall  f1-score   support\n",
      "\n",
      "          -1       0.82      0.46      0.59       573\n",
      "           1       0.60      0.89      0.71       516\n",
      "\n",
      "    accuracy                           0.66      1089\n",
      "   macro avg       0.71      0.67      0.65      1089\n",
      "weighted avg       0.71      0.66      0.65      1089\n",
      "\n"
     ]
    }
   ],
   "source": [
    "lr_report=classification_report(y_test,predictions)\n",
    "print(lr_report)"
   ]
  },
  {
   "cell_type": "code",
   "execution_count": 35,
   "metadata": {
    "colab": {
     "base_uri": "https://localhost:8080/"
    },
    "executionInfo": {
     "elapsed": 28,
     "status": "ok",
     "timestamp": 1639940460453,
     "user": {
      "displayName": "Basilis Thiou",
      "photoUrl": "https://lh3.googleusercontent.com/a-/AOh14GiIiPUIeoAu6ZW5gHpTiRRY-KsE1sM1ffpfUk9gog=s64",
      "userId": "13467594205314738941"
     },
     "user_tz": -120
    },
    "id": "njl8ZXYY4yEO",
    "outputId": "be914db2-b836-4594-e41c-46ae0ec7edd6"
   },
   "outputs": [
    {
     "name": "stdout",
     "output_type": "stream",
     "text": [
      "ACCURACY: 0.6629935720844812\n"
     ]
    }
   ],
   "source": [
    "from sklearn.metrics import accuracy_score\n",
    "score1=accuracy_score(y_test,predictions)\n",
    "\n",
    "print(\"ACCURACY:\",score1)"
   ]
  },
  {
   "cell_type": "code",
   "execution_count": 36,
   "metadata": {
    "colab": {
     "base_uri": "https://localhost:8080/"
    },
    "executionInfo": {
     "elapsed": 22,
     "status": "ok",
     "timestamp": 1639940460453,
     "user": {
      "displayName": "Basilis Thiou",
      "photoUrl": "https://lh3.googleusercontent.com/a-/AOh14GiIiPUIeoAu6ZW5gHpTiRRY-KsE1sM1ffpfUk9gog=s64",
      "userId": "13467594205314738941"
     },
     "user_tz": -120
    },
    "id": "5-hPt38n_Ntu",
    "outputId": "cfa5276f-4bee-4384-a34a-0e625563f666"
   },
   "outputs": [
    {
     "data": {
      "text/plain": [
       "array([1, 1, 1, 1], dtype=int64)"
      ]
     },
     "execution_count": 36,
     "metadata": {},
     "output_type": "execute_result"
    }
   ],
   "source": [
    "sentence = [\"very good movie\", \"bad\", \"awful movie\", \"not good movie\"]\n",
    "sentence_pred = vectorizer.transform(sentence)\n",
    "lr.predict(sentence_pred)"
   ]
  },
  {
   "cell_type": "code",
   "execution_count": 37,
   "metadata": {
    "colab": {
     "base_uri": "https://localhost:8080/"
    },
    "executionInfo": {
     "elapsed": 531,
     "status": "ok",
     "timestamp": 1639940460967,
     "user": {
      "displayName": "Basilis Thiou",
      "photoUrl": "https://lh3.googleusercontent.com/a-/AOh14GiIiPUIeoAu6ZW5gHpTiRRY-KsE1sM1ffpfUk9gog=s64",
      "userId": "13467594205314738941"
     },
     "user_tz": -120
    },
    "id": "yjcSoT_e4yEO",
    "outputId": "66c8ebd5-4ffd-4f77-c0fc-04f47c67d93b"
   },
   "outputs": [
    {
     "name": "stdout",
     "output_type": "stream",
     "text": [
      "SGDClassifier(max_iter=500, random_state=42)\n",
      "[ 1 -1  1 ... -1  1  1]\n",
      "svm_bow_score : 0.6299357208448118\n",
      "              precision    recall  f1-score   support\n",
      "\n",
      "          -1       0.84      0.37      0.51       573\n",
      "           1       0.57      0.92      0.70       516\n",
      "\n",
      "    accuracy                           0.63      1089\n",
      "   macro avg       0.70      0.64      0.61      1089\n",
      "weighted avg       0.71      0.63      0.60      1089\n",
      "\n"
     ]
    }
   ],
   "source": [
    "from sklearn.svm import SVC\n",
    "from sklearn.linear_model import SGDClassifier\n",
    "#training the linear svm\n",
    "svm=SGDClassifier(loss='hinge',max_iter=500,random_state=42)\n",
    "svm_bow=svm.fit(train_matrix,y_train)\n",
    "print(svm_bow)\n",
    "\n",
    "svm_bow_predict=svm.predict(test_matrix)\n",
    "print(svm_bow_predict)\n",
    "\n",
    "score2=accuracy_score(y_test,svm_bow_predict)\n",
    "print(\"svm_bow_score :\",score2)\n",
    "\n",
    "svm_bow_report=classification_report(y_test,svm_bow_predict)\n",
    "print(svm_bow_report)\n"
   ]
  },
  {
   "cell_type": "code",
   "execution_count": 38,
   "metadata": {
    "colab": {
     "base_uri": "https://localhost:8080/"
    },
    "executionInfo": {
     "elapsed": 21,
     "status": "ok",
     "timestamp": 1639940460968,
     "user": {
      "displayName": "Basilis Thiou",
      "photoUrl": "https://lh3.googleusercontent.com/a-/AOh14GiIiPUIeoAu6ZW5gHpTiRRY-KsE1sM1ffpfUk9gog=s64",
      "userId": "13467594205314738941"
     },
     "user_tz": -120
    },
    "id": "bDY86vV3_TOd",
    "outputId": "43f19955-aacc-4caf-b4b4-b921c5540761"
   },
   "outputs": [
    {
     "data": {
      "text/plain": [
       "array([1, 1, 1, 1], dtype=int64)"
      ]
     },
     "execution_count": 38,
     "metadata": {},
     "output_type": "execute_result"
    }
   ],
   "source": [
    "sentence = [\"very good movie\", \"bad\", \"awful movie\", \"not good movie\"]\n",
    "sentence_pred = vectorizer.transform(sentence)\n",
    "svm.predict(sentence_pred)"
   ]
  },
  {
   "cell_type": "code",
   "execution_count": 39,
   "metadata": {
    "colab": {
     "base_uri": "https://localhost:8080/"
    },
    "executionInfo": {
     "elapsed": 16,
     "status": "ok",
     "timestamp": 1639940460969,
     "user": {
      "displayName": "Basilis Thiou",
      "photoUrl": "https://lh3.googleusercontent.com/a-/AOh14GiIiPUIeoAu6ZW5gHpTiRRY-KsE1sM1ffpfUk9gog=s64",
      "userId": "13467594205314738941"
     },
     "user_tz": -120
    },
    "id": "Pe11tLYT4yEP",
    "outputId": "ed969af9-7845-46ad-a115-04c9fcc89227"
   },
   "outputs": [
    {
     "name": "stdout",
     "output_type": "stream",
     "text": [
      "MultinomialNB()\n",
      "[ 1 -1  1 ... -1  1 -1]\n",
      "mnb_bow_score : 0.721763085399449\n",
      "              precision    recall  f1-score   support\n",
      "\n",
      "          -1       0.73      0.75      0.74       573\n",
      "           1       0.71      0.69      0.70       516\n",
      "\n",
      "    accuracy                           0.72      1089\n",
      "   macro avg       0.72      0.72      0.72      1089\n",
      "weighted avg       0.72      0.72      0.72      1089\n",
      "\n",
      "[[428 145]\n",
      " [158 358]]\n"
     ]
    }
   ],
   "source": [
    "from sklearn.naive_bayes import MultinomialNB\n",
    "#training the model\n",
    "mnb=MultinomialNB()\n",
    "#fitting the svm for bag of words\n",
    "mnb_bow=mnb.fit(train_matrix,y_train)\n",
    "print(mnb_bow)\n",
    "\n",
    "mnb_bow_predict=mnb.predict(test_matrix)\n",
    "print(mnb_bow_predict)\n",
    "\n",
    "#Accuracy score for bag of words\n",
    "score3=accuracy_score(y_test,mnb_bow_predict)\n",
    "print(\"mnb_bow_score :\",score3)\n",
    "\n",
    "#Classification report for bag of words \n",
    "mnb_bow_report=classification_report(y_test,mnb_bow_predict)\n",
    "print(mnb_bow_report)\n",
    "\n",
    "cm_bow=confusion_matrix(y_test,mnb_bow_predict)\n",
    "print(cm_bow)\n"
   ]
  },
  {
   "cell_type": "code",
   "execution_count": 40,
   "metadata": {
    "colab": {
     "base_uri": "https://localhost:8080/"
    },
    "executionInfo": {
     "elapsed": 11,
     "status": "ok",
     "timestamp": 1639940460969,
     "user": {
      "displayName": "Basilis Thiou",
      "photoUrl": "https://lh3.googleusercontent.com/a-/AOh14GiIiPUIeoAu6ZW5gHpTiRRY-KsE1sM1ffpfUk9gog=s64",
      "userId": "13467594205314738941"
     },
     "user_tz": -120
    },
    "id": "9yNnvoVG_nqO",
    "outputId": "0d8ab20a-e09d-4ff7-a71c-d7bf996c4f1b"
   },
   "outputs": [
    {
     "data": {
      "text/plain": [
       "array([1, 1, 1, 1], dtype=int64)"
      ]
     },
     "execution_count": 40,
     "metadata": {},
     "output_type": "execute_result"
    }
   ],
   "source": [
    "sentence = [\"very good movie\", \"bad\", \"awful movie\", \"not good movie\"]\n",
    "sentence_pred = vectorizer.transform(sentence)\n",
    "mnb.predict(sentence_pred)"
   ]
  },
  {
   "cell_type": "code",
   "execution_count": 41,
   "metadata": {
    "colab": {
     "base_uri": "https://localhost:8080/"
    },
    "executionInfo": {
     "elapsed": 55338,
     "status": "ok",
     "timestamp": 1639940516299,
     "user": {
      "displayName": "Basilis Thiou",
      "photoUrl": "https://lh3.googleusercontent.com/a-/AOh14GiIiPUIeoAu6ZW5gHpTiRRY-KsE1sM1ffpfUk9gog=s64",
      "userId": "13467594205314738941"
     },
     "user_tz": -120
    },
    "id": "pCEBKyrB4yEP",
    "outputId": "f11cecc6-3f53-430c-a73b-ea53f0aab766"
   },
   "outputs": [
    {
     "name": "stdout",
     "output_type": "stream",
     "text": [
      "RandomForestClassifier()\n",
      "[1 1 1 ... 1 1 1]\n",
      "mnb_bow_score : 0.5500459136822773\n",
      "              precision    recall  f1-score   support\n",
      "\n",
      "          -1       0.88      0.17      0.28       573\n",
      "           1       0.51      0.97      0.67       516\n",
      "\n",
      "    accuracy                           0.55      1089\n",
      "   macro avg       0.70      0.57      0.48      1089\n",
      "weighted avg       0.71      0.55      0.47      1089\n",
      "\n",
      "[[ 96 477]\n",
      " [ 13 503]]\n"
     ]
    }
   ],
   "source": [
    "from sklearn.ensemble import RandomForestClassifier\n",
    "\n",
    "clf=RandomForestClassifier()\n",
    "#fitting the svm for bag of words\n",
    "clf_bow=clf.fit(train_matrix,y_train)\n",
    "print(clf_bow)\n",
    "#fitting the svm for tfidf features\n",
    "\n",
    "#Predicting the model for bag of words\n",
    "clf_bow_predict=clf.predict(test_matrix)\n",
    "print(clf_bow_predict)\n",
    "\n",
    "#Accuracy score for bag of words\n",
    "score4=accuracy_score(y_test,clf_bow_predict)\n",
    "print(\"mnb_bow_score :\",score4)\n",
    "\n",
    "#Classification report for bag of words \n",
    "clf_bow_report=classification_report(y_test,clf_bow_predict)\n",
    "print(clf_bow_report)\n",
    "\n",
    "#confusion matrix for bag of words\n",
    "clf_bow=confusion_matrix(y_test,clf_bow_predict)\n",
    "print(clf_bow)\n"
   ]
  },
  {
   "cell_type": "code",
   "execution_count": 42,
   "metadata": {
    "colab": {
     "base_uri": "https://localhost:8080/"
    },
    "executionInfo": {
     "elapsed": 676,
     "status": "ok",
     "timestamp": 1639944358184,
     "user": {
      "displayName": "Basilis Thiou",
      "photoUrl": "https://lh3.googleusercontent.com/a-/AOh14GiIiPUIeoAu6ZW5gHpTiRRY-KsE1sM1ffpfUk9gog=s64",
      "userId": "13467594205314738941"
     },
     "user_tz": -120
    },
    "id": "a5lq6pJe_wA_",
    "outputId": "1076ed35-33ce-4737-bd3c-54c8ef72708a"
   },
   "outputs": [
    {
     "data": {
      "text/plain": [
       "array([1, 1, 1, 1], dtype=int64)"
      ]
     },
     "execution_count": 42,
     "metadata": {},
     "output_type": "execute_result"
    }
   ],
   "source": [
    "\n",
    "sentence = [\"very good movie\", \"bad\", \"awful movie\", \"not good movie\"]\n",
    "sentence_pred = vectorizer.transform(sentence)\n",
    "clf.predict(sentence_pred)"
   ]
  },
  {
   "cell_type": "markdown",
   "metadata": {
    "id": "ysAUJpm75NOc"
   },
   "source": [
    "LSTM MODEL\n"
   ]
  },
  {
   "cell_type": "code",
   "execution_count": 43,
   "metadata": {
    "colab": {
     "base_uri": "https://localhost:8080/",
     "height": 424
    },
    "executionInfo": {
     "elapsed": 2942,
     "status": "ok",
     "timestamp": 1639940519236,
     "user": {
      "displayName": "Basilis Thiou",
      "photoUrl": "https://lh3.googleusercontent.com/a-/AOh14GiIiPUIeoAu6ZW5gHpTiRRY-KsE1sM1ffpfUk9gog=s64",
      "userId": "13467594205314738941"
     },
     "user_tz": -120
    },
    "id": "pVnV-L3b5O5b",
    "outputId": "59bd0d24-6bae-4be0-d355-0fe1a46eb24d"
   },
   "outputs": [
    {
     "data": {
      "text/html": [
       "<div>\n",
       "<style scoped>\n",
       "    .dataframe tbody tr th:only-of-type {\n",
       "        vertical-align: middle;\n",
       "    }\n",
       "\n",
       "    .dataframe tbody tr th {\n",
       "        vertical-align: top;\n",
       "    }\n",
       "\n",
       "    .dataframe thead th {\n",
       "        text-align: right;\n",
       "    }\n",
       "</style>\n",
       "<table border=\"1\" class=\"dataframe\">\n",
       "  <thead>\n",
       "    <tr style=\"text-align: right;\">\n",
       "      <th></th>\n",
       "      <th>review</th>\n",
       "      <th>sentiment</th>\n",
       "    </tr>\n",
       "  </thead>\n",
       "  <tbody>\n",
       "    <tr>\n",
       "      <th>0</th>\n",
       "      <td>One of the other reviewers has mentioned that ...</td>\n",
       "      <td>positive</td>\n",
       "    </tr>\n",
       "    <tr>\n",
       "      <th>1</th>\n",
       "      <td>A wonderful little production. &lt;br /&gt;&lt;br /&gt;The...</td>\n",
       "      <td>positive</td>\n",
       "    </tr>\n",
       "    <tr>\n",
       "      <th>2</th>\n",
       "      <td>I thought this was a wonderful way to spend ti...</td>\n",
       "      <td>positive</td>\n",
       "    </tr>\n",
       "    <tr>\n",
       "      <th>3</th>\n",
       "      <td>Basically there's a family where a little boy ...</td>\n",
       "      <td>negative</td>\n",
       "    </tr>\n",
       "    <tr>\n",
       "      <th>4</th>\n",
       "      <td>Petter Mattei's \"Love in the Time of Money\" is...</td>\n",
       "      <td>positive</td>\n",
       "    </tr>\n",
       "    <tr>\n",
       "      <th>...</th>\n",
       "      <td>...</td>\n",
       "      <td>...</td>\n",
       "    </tr>\n",
       "    <tr>\n",
       "      <th>49995</th>\n",
       "      <td>I thought this movie did a down right good job...</td>\n",
       "      <td>positive</td>\n",
       "    </tr>\n",
       "    <tr>\n",
       "      <th>49996</th>\n",
       "      <td>Bad plot, bad dialogue, bad acting, idiotic di...</td>\n",
       "      <td>negative</td>\n",
       "    </tr>\n",
       "    <tr>\n",
       "      <th>49997</th>\n",
       "      <td>I am a Catholic taught in parochial elementary...</td>\n",
       "      <td>negative</td>\n",
       "    </tr>\n",
       "    <tr>\n",
       "      <th>49998</th>\n",
       "      <td>I'm going to have to disagree with the previou...</td>\n",
       "      <td>negative</td>\n",
       "    </tr>\n",
       "    <tr>\n",
       "      <th>49999</th>\n",
       "      <td>No one expects the Star Trek movies to be high...</td>\n",
       "      <td>negative</td>\n",
       "    </tr>\n",
       "  </tbody>\n",
       "</table>\n",
       "<p>50000 rows × 2 columns</p>\n",
       "</div>"
      ],
      "text/plain": [
       "                                                  review sentiment\n",
       "0      One of the other reviewers has mentioned that ...  positive\n",
       "1      A wonderful little production. <br /><br />The...  positive\n",
       "2      I thought this was a wonderful way to spend ti...  positive\n",
       "3      Basically there's a family where a little boy ...  negative\n",
       "4      Petter Mattei's \"Love in the Time of Money\" is...  positive\n",
       "...                                                  ...       ...\n",
       "49995  I thought this movie did a down right good job...  positive\n",
       "49996  Bad plot, bad dialogue, bad acting, idiotic di...  negative\n",
       "49997  I am a Catholic taught in parochial elementary...  negative\n",
       "49998  I'm going to have to disagree with the previou...  negative\n",
       "49999  No one expects the Star Trek movies to be high...  negative\n",
       "\n",
       "[50000 rows x 2 columns]"
      ]
     },
     "execution_count": 43,
     "metadata": {},
     "output_type": "execute_result"
    }
   ],
   "source": [
    "import pandas as pd\n",
    "import numpy as np\n",
    "from nltk.corpus import stopwords\n",
    "# to load, access, process and dump json files\n",
    "import json\n",
    "# regular repression\n",
    "import re\n",
    "# to parse HTML contents\n",
    "from bs4 import BeautifulSoup\n",
    "\n",
    "# for numerical analysis\n",
    "import numpy as np \n",
    "# to store and process in a dataframe\n",
    "import pandas as pd \n",
    "\n",
    "# for ploting graphs\n",
    "import matplotlib.pyplot as plt\n",
    "# advancec ploting\n",
    "import seaborn as sns\n",
    "# to create word clouds\n",
    "from wordcloud import WordCloud, STOPWORDS \n",
    "\n",
    "# To encode values\n",
    "from sklearn.preprocessing import LabelEncoder\n",
    "# Convert a collection of text documents to a matrix of token counts\n",
    "from sklearn.feature_extraction.text import CountVectorizer\n",
    "# confusion matrix\n",
    "from sklearn.metrics import confusion_matrix\n",
    "# train test split\n",
    "from sklearn.model_selection import train_test_split\n",
    "\n",
    "# for deep learning \n",
    "import tensorflow as tf\n",
    "# to tokenize text\n",
    "from tensorflow.keras.preprocessing.text import Tokenizer\n",
    "# to pad sequence \n",
    "from tensorflow.keras.preprocessing.sequence import pad_sequences\n",
    "\n",
    "\n",
    "data = pd.read_csv(\"IMDB Dataset.csv\")\n",
    "data"
   ]
  },
  {
   "cell_type": "code",
   "execution_count": 44,
   "metadata": {
    "colab": {
     "base_uri": "https://localhost:8080/"
    },
    "executionInfo": {
     "elapsed": 15,
     "status": "ok",
     "timestamp": 1639940519237,
     "user": {
      "displayName": "Basilis Thiou",
      "photoUrl": "https://lh3.googleusercontent.com/a-/AOh14GiIiPUIeoAu6ZW5gHpTiRRY-KsE1sM1ffpfUk9gog=s64",
      "userId": "13467594205314738941"
     },
     "user_tz": -120
    },
    "id": "j7BmeBKQ5bAH",
    "outputId": "346ad205-940f-425c-d2f4-1266e2436941"
   },
   "outputs": [
    {
     "name": "stdout",
     "output_type": "stream",
     "text": [
      "1173798\n",
      "negative    2512\n",
      "positive    2488\n",
      "Name: sentiment, dtype: int64\n"
     ]
    }
   ],
   "source": [
    "df = data.sample(frac=0.1, replace=True, random_state=1)\n",
    "\n",
    "df['word_count'] = df['review'].apply(lambda x: len(x.split()))\n",
    "df['char count'] = df['review'].apply(lambda x : len(x))\n",
    "\n",
    "vocab_size = df[\"word_count\"].sum()\n",
    "print(vocab_size)\n",
    "print(df[\"sentiment\"].value_counts())\n"
   ]
  },
  {
   "cell_type": "code",
   "execution_count": 45,
   "metadata": {
    "executionInfo": {
     "elapsed": 401,
     "status": "ok",
     "timestamp": 1639940519630,
     "user": {
      "displayName": "Basilis Thiou",
      "photoUrl": "https://lh3.googleusercontent.com/a-/AOh14GiIiPUIeoAu6ZW5gHpTiRRY-KsE1sM1ffpfUk9gog=s64",
      "userId": "13467594205314738941"
     },
     "user_tz": -120
    },
    "id": "dsQbqZLc5dXQ"
   },
   "outputs": [],
   "source": [
    "reviews = np.array([review for review in df['review']])\n",
    "labels = np.array([label for label in df['sentiment']])\n"
   ]
  },
  {
   "cell_type": "code",
   "execution_count": 46,
   "metadata": {
    "colab": {
     "base_uri": "https://localhost:8080/"
    },
    "executionInfo": {
     "elapsed": 6,
     "status": "ok",
     "timestamp": 1639940519631,
     "user": {
      "displayName": "Basilis Thiou",
      "photoUrl": "https://lh3.googleusercontent.com/a-/AOh14GiIiPUIeoAu6ZW5gHpTiRRY-KsE1sM1ffpfUk9gog=s64",
      "userId": "13467594205314738941"
     },
     "user_tz": -120
    },
    "id": "SfZGgICd5gxS",
    "outputId": "0001921b-82d8-4764-c6ff-10bc04f9d514"
   },
   "outputs": [
    {
     "name": "stdout",
     "output_type": "stream",
     "text": [
      "['negative' 'positive']\n",
      "['positive' 'negative' 'negative' 'negative' 'positive']\n",
      "[1 0 0 0 1]\n"
     ]
    }
   ],
   "source": [
    "\n",
    "enc = LabelEncoder()\n",
    "encoded_labels = enc.fit_transform(labels)\n",
    "\n",
    "print(enc.classes_)\n",
    "print(labels[:5])\n",
    "print(encoded_labels[:5])"
   ]
  },
  {
   "cell_type": "code",
   "execution_count": 47,
   "metadata": {
    "executionInfo": {
     "elapsed": 2504,
     "status": "ok",
     "timestamp": 1639940522131,
     "user": {
      "displayName": "Basilis Thiou",
      "photoUrl": "https://lh3.googleusercontent.com/a-/AOh14GiIiPUIeoAu6ZW5gHpTiRRY-KsE1sM1ffpfUk9gog=s64",
      "userId": "13467594205314738941"
     },
     "user_tz": -120
    },
    "id": "dt_BnyNB5jB_"
   },
   "outputs": [],
   "source": [
    "# Stopwords list from https://github.com/Yoast/YoastSEO.js/blob/develop/src/config/stopwords.js\n",
    "stopwords = [ \"a\", \"about\", \"above\", \"after\", \"again\", \"against\", \"all\", \"am\", \"an\", \"and\", \"any\", \"are\", \"as\", \"at\", \"be\", \"because\", \"been\", \"before\", \"being\", \"below\", \"between\", \"both\", \"but\", \"by\", \"could\", \"did\", \"do\", \"does\", \"doing\", \"down\", \"during\", \"each\", \"few\", \"for\", \"from\", \"further\", \"had\", \"has\", \"have\", \"having\", \"he\", \"he'd\", \"he'll\", \"he's\", \"her\", \"here\", \"here's\", \"hers\", \"herself\", \"him\", \"himself\", \"his\", \"how\", \"how's\", \"i\", \"i'd\", \"i'll\", \"i'm\", \"i've\", \"if\", \"in\", \"into\", \"is\", \"it\", \"it's\", \"its\", \"itself\", \"let's\", \"me\", \"more\", \"most\", \"my\", \"myself\", \"nor\", \"of\", \"on\", \"once\", \"only\", \"or\", \"other\", \"ought\", \"our\", \"ours\", \"ourselves\", \"out\", \"over\", \"own\", \"same\", \"she\", \"she'd\", \"she'll\", \"she's\", \"should\", \"so\", \"some\", \"such\", \"than\", \"that\", \"that's\", \"the\", \"their\", \"theirs\", \"them\", \"themselves\", \"then\", \"there\", \"there's\", \"these\", \"they\", \"they'd\", \"they'll\", \"they're\", \"they've\", \"this\", \"those\", \"through\", \"to\", \"too\", \"under\", \"until\", \"up\", \"very\", \"was\", \"we\", \"we'd\", \"we'll\", \"we're\", \"we've\", \"were\", \"what\", \"what's\", \"when\", \"when's\", \"where\", \"where's\", \"which\", \"while\", \"who\", \"who's\", \"whom\", \"why\", \"why's\", \"with\", \"would\", \"you\", \"you'd\", \"you'll\", \"you're\", \"you've\", \"your\", \"yours\", \"yourself\", \"yourselves\" ]\n",
    "\n",
    "# specific stopwords\n",
    "specific_sw = ['br', 'movie', 'film']\n",
    "\n",
    "# all stopwords\n",
    "stopwords = stopwords + specific_sw\n",
    "\n",
    "\n",
    "def remove_stopwords(text):\n",
    "    final_text = []\n",
    "    for i in text.split():\n",
    "        if i.strip().lower() not in stopwords:\n",
    "            final_text.append(i.strip())\n",
    "    return \" \".join(final_text)\n",
    "\n",
    "df['review'] = df['review'].apply(remove_stopwords)\n",
    "\n"
   ]
  },
  {
   "cell_type": "code",
   "execution_count": 48,
   "metadata": {
    "executionInfo": {
     "elapsed": 407,
     "status": "ok",
     "timestamp": 1639940522533,
     "user": {
      "displayName": "Basilis Thiou",
      "photoUrl": "https://lh3.googleusercontent.com/a-/AOh14GiIiPUIeoAu6ZW5gHpTiRRY-KsE1sM1ffpfUk9gog=s64",
      "userId": "13467594205314738941"
     },
     "user_tz": -120
    },
    "id": "auCbmlwJ5jpV"
   },
   "outputs": [],
   "source": [
    "train_sentences, validation_sentences, train_labels, validation_labels = train_test_split(reviews, encoded_labels, test_size=0.33, stratify=labels)"
   ]
  },
  {
   "cell_type": "code",
   "execution_count": 49,
   "metadata": {
    "executionInfo": {
     "elapsed": 2077,
     "status": "ok",
     "timestamp": 1639940524608,
     "user": {
      "displayName": "Basilis Thiou",
      "photoUrl": "https://lh3.googleusercontent.com/a-/AOh14GiIiPUIeoAu6ZW5gHpTiRRY-KsE1sM1ffpfUk9gog=s64",
      "userId": "13467594205314738941"
     },
     "user_tz": -120
    },
    "id": "_3aHv3UC5lqm"
   },
   "outputs": [],
   "source": [
    "oov_tok = \"<OOV>\"\n",
    "embedding_dim = 100\n",
    "max_length = 120\n",
    "trunc_type='post'\n",
    "padding_type='post'\n",
    "\n",
    "tokenizer = Tokenizer(num_words = vocab_size, oov_token=oov_tok)\n",
    "tokenizer.fit_on_texts(train_sentences)\n",
    "word_index = tokenizer.word_index\n",
    "\n",
    "# convert train dataset to sequence and pad sequences\n",
    "train_sequences = tokenizer.texts_to_sequences(train_sentences)\n",
    "train_padded = pad_sequences(train_sequences, padding=padding_type, maxlen=max_length)\n",
    "\n",
    "# convert validation dataset to sequence and pad sequences\n",
    "validation_sequences = tokenizer.texts_to_sequences(validation_sentences)\n",
    "validation_padded = pad_sequences(validation_sequences, padding=padding_type, maxlen=max_length)"
   ]
  },
  {
   "cell_type": "code",
   "execution_count": 50,
   "metadata": {
    "colab": {
     "base_uri": "https://localhost:8080/"
    },
    "executionInfo": {
     "elapsed": 4294,
     "status": "ok",
     "timestamp": 1639943128110,
     "user": {
      "displayName": "Basilis Thiou",
      "photoUrl": "https://lh3.googleusercontent.com/a-/AOh14GiIiPUIeoAu6ZW5gHpTiRRY-KsE1sM1ffpfUk9gog=s64",
      "userId": "13467594205314738941"
     },
     "user_tz": -120
    },
    "id": "8K5hJdhK5nvB",
    "outputId": "abdb33ae-3c21-4457-de2a-585058ab063e"
   },
   "outputs": [
    {
     "name": "stdout",
     "output_type": "stream",
     "text": [
      "Model: \"sequential\"\n",
      "_________________________________________________________________\n",
      "Layer (type)                 Output Shape              Param #   \n",
      "=================================================================\n",
      "embedding (Embedding)        (None, 120, 100)          117379800 \n",
      "_________________________________________________________________\n",
      "bidirectional (Bidirectional (None, 128)               84480     \n",
      "_________________________________________________________________\n",
      "dense (Dense)                (None, 24)                3096      \n",
      "_________________________________________________________________\n",
      "dense_1 (Dense)              (None, 1)                 25        \n",
      "=================================================================\n",
      "Total params: 117,467,401\n",
      "Trainable params: 117,467,401\n",
      "Non-trainable params: 0\n",
      "_________________________________________________________________\n"
     ]
    }
   ],
   "source": [
    "# model initialization\n",
    "from keras import regularizers\n",
    "model = tf.keras.Sequential([\n",
    "    tf.keras.layers.Embedding(vocab_size, embedding_dim, input_length=max_length),\n",
    "    tf.keras.layers.Bidirectional(tf.keras.layers.LSTM(64)),\n",
    "    tf.keras.layers.Dense(24, activation='relu'),\n",
    "    tf.keras.layers.Dense(1, activation='sigmoid')\n",
    "])\n",
    "\n",
    "# compile model\n",
    "model.compile(loss='binary_crossentropy',\n",
    "              optimizer='adam',\n",
    "              metrics=['accuracy'])\n",
    "\n",
    "# model summary\n",
    "model.summary()"
   ]
  },
  {
   "cell_type": "code",
   "execution_count": 52,
   "metadata": {
    "colab": {
     "base_uri": "https://localhost:8080/"
    },
    "executionInfo": {
     "elapsed": 990812,
     "status": "ok",
     "timestamp": 1639944132005,
     "user": {
      "displayName": "Basilis Thiou",
      "photoUrl": "https://lh3.googleusercontent.com/a-/AOh14GiIiPUIeoAu6ZW5gHpTiRRY-KsE1sM1ffpfUk9gog=s64",
      "userId": "13467594205314738941"
     },
     "user_tz": -120
    },
    "id": "E0bFcr2b5qgd",
    "outputId": "002f1b0a-404f-4403-f5c6-cb8121ae1dac"
   },
   "outputs": [
    {
     "name": "stdout",
     "output_type": "stream",
     "text": [
      "Epoch 1/5\n",
      "71/71 - 400s - loss: 0.4855 - accuracy: 0.7892 - val_loss: 0.4095 - val_accuracy: 0.8165\n",
      "Epoch 2/5\n",
      "71/71 - 415s - loss: 0.1478 - accuracy: 0.9496 - val_loss: 0.4567 - val_accuracy: 0.8300\n",
      "Epoch 3/5\n",
      "71/71 - 336s - loss: 0.1142 - accuracy: 0.9706 - val_loss: 0.4570 - val_accuracy: 0.8336\n",
      "Epoch 4/5\n",
      "71/71 - 326s - loss: 0.0335 - accuracy: 0.9929 - val_loss: 0.6352 - val_accuracy: 0.8210\n",
      "Epoch 5/5\n",
      "71/71 - 323s - loss: 0.0191 - accuracy: 0.9964 - val_loss: 0.6401 - val_accuracy: 0.8237\n"
     ]
    }
   ],
   "source": [
    "num_epochs = 5\n",
    "history = model.fit(train_padded, train_labels, \n",
    "                    epochs=num_epochs, verbose=2, \n",
    "                    validation_split=0.33)\n",
    "\n",
    "# predict values\n",
    "pred = model.predict(validation_padded)"
   ]
  },
  {
   "cell_type": "code",
   "execution_count": 53,
   "metadata": {
    "colab": {
     "base_uri": "https://localhost:8080/"
    },
    "executionInfo": {
     "elapsed": 264,
     "status": "ok",
     "timestamp": 1639944191616,
     "user": {
      "displayName": "Basilis Thiou",
      "photoUrl": "https://lh3.googleusercontent.com/a-/AOh14GiIiPUIeoAu6ZW5gHpTiRRY-KsE1sM1ffpfUk9gog=s64",
      "userId": "13467594205314738941"
     },
     "user_tz": -120
    },
    "id": "_k_mxfRPC9m5",
    "outputId": "5ff16608-602e-4f63-ba4c-449d278c2790"
   },
   "outputs": [
    {
     "name": "stdout",
     "output_type": "stream",
     "text": [
      "[[0.991148  ]\n",
      " [0.00291717]]\n"
     ]
    }
   ],
   "source": [
    "# reviews on which we need to predict\n",
    "sentence = [\"The movie was very touching and heart whelming\", \n",
    "            \"I have never seen a terrible movie like this\"]\n",
    "\n",
    "# convert to a sequence\n",
    "sequences = tokenizer.texts_to_sequences(sentence)\n",
    "\n",
    "# pad the sequence\n",
    "padded = pad_sequences(sequences, maxlen=max_length, padding=padding_type, truncating=trunc_type)\n",
    "\n",
    "# preict the label\n",
    "print(model.predict(padded))"
   ]
  },
  {
   "cell_type": "code",
   "execution_count": 54,
   "metadata": {
    "colab": {
     "base_uri": "https://localhost:8080/"
    },
    "executionInfo": {
     "elapsed": 7,
     "status": "ok",
     "timestamp": 1639944192939,
     "user": {
      "displayName": "Basilis Thiou",
      "photoUrl": "https://lh3.googleusercontent.com/a-/AOh14GiIiPUIeoAu6ZW5gHpTiRRY-KsE1sM1ffpfUk9gog=s64",
      "userId": "13467594205314738941"
     },
     "user_tz": -120
    },
    "id": "gvsN2D8L_09f",
    "outputId": "017bf636-4a7b-4d8b-9151-6616715d2573"
   },
   "outputs": [
    {
     "data": {
      "text/plain": [
       "0.8018181818181818"
      ]
     },
     "execution_count": 54,
     "metadata": {},
     "output_type": "execute_result"
    }
   ],
   "source": [
    "pred = (pred > 0.5).astype(int)\n",
    "score5 = accuracy_score(pred, validation_labels)\n",
    "score5"
   ]
  },
  {
   "cell_type": "code",
   "execution_count": 55,
   "metadata": {
    "executionInfo": {
     "elapsed": 339,
     "status": "ok",
     "timestamp": 1639944397191,
     "user": {
      "displayName": "Basilis Thiou",
      "photoUrl": "https://lh3.googleusercontent.com/a-/AOh14GiIiPUIeoAu6ZW5gHpTiRRY-KsE1sM1ffpfUk9gog=s64",
      "userId": "13467594205314738941"
     },
     "user_tz": -120
    },
    "id": "S3uV-LlR4yEQ"
   },
   "outputs": [],
   "source": [
    "scores = [score1,score2,score3,score4, score5]"
   ]
  },
  {
   "cell_type": "code",
   "execution_count": 56,
   "metadata": {
    "colab": {
     "base_uri": "https://localhost:8080/",
     "height": 613
    },
    "executionInfo": {
     "elapsed": 1293,
     "status": "ok",
     "timestamp": 1639944398853,
     "user": {
      "displayName": "Basilis Thiou",
      "photoUrl": "https://lh3.googleusercontent.com/a-/AOh14GiIiPUIeoAu6ZW5gHpTiRRY-KsE1sM1ffpfUk9gog=s64",
      "userId": "13467594205314738941"
     },
     "user_tz": -120
    },
    "id": "ha6e0CZb4yEQ",
    "outputId": "27c1e7cc-5b3f-4d6d-9ae9-9804f9d5fd7e"
   },
   "outputs": [
    {
     "name": "stderr",
     "output_type": "stream",
     "text": [
      "No handles with labels found to put in legend.\n"
     ]
    },
    {
     "data": {
      "image/png": "[encoded data removed]",
      "text/plain": [
       "<Figure size 432x288 with 1 Axes>"
      ]
     },
     "metadata": {},
     "output_type": "display_data"
    }
   ],
   "source": [
    "#Συγκριτικό διάγραμμα μεταξύ των score τις κάθε μεθόδου ανάλογα με τη μέθοδο παλινδρόμισης που εφαρμόστηκε.\n",
    "import matplotlib.pyplot as plt\n",
    "fig = plt.figure()\n",
    "ax = fig.add_axes([0,0,1.8,1.8])\n",
    "algorithms = ['Logistic Regression', 'SVM','MNB', 'Random Forest','lstm']\n",
    "total_scores= scores\n",
    "ax.bar(algorithms,total_scores)\n",
    "plt.title('PREDICTION SCORE COMPARISON')\n",
    "plt.legend()\n",
    "plt.xlabel(\"ALGORITHM\")\n",
    "plt.ylabel(\"Accuracy Score\")\n",
    "plt.show()"
   ]
  },
  {
   "cell_type": "code",
   "execution_count": 57,
   "metadata": {
    "colab": {
     "base_uri": "https://localhost:8080/",
     "height": 198
    },
    "executionInfo": {
     "elapsed": 65611,
     "status": "ok",
     "timestamp": 1639944465916,
     "user": {
      "displayName": "Basilis Thiou",
      "photoUrl": "https://lh3.googleusercontent.com/a-/AOh14GiIiPUIeoAu6ZW5gHpTiRRY-KsE1sM1ffpfUk9gog=s64",
      "userId": "13467594205314738941"
     },
     "user_tz": -120
    },
    "id": "Cy8oHlX84yER",
    "outputId": "5b74d451-4e23-4b34-a06e-571a803ce456"
   },
   "outputs": [
    {
     "data": {
      "image/png": "[encoded data removed]",
      "text/plain": [
       "<Figure size 432x288 with 1 Axes>"
      ]
     },
     "metadata": {},
     "output_type": "display_data"
    }
   ],
   "source": [
    "textt = \" \".join(x for x in data.review)\n",
    "from wordcloud import WordCloud, STOPWORDS\n",
    "wordcloud = WordCloud(stopwords=stop_words).generate(textt)\n",
    "plt.imshow(wordcloud, interpolation='bilinear')\n",
    "plt.axis(\"off\")\n",
    "plt.savefig('wordcloud1.png')\n",
    "plt.show()"
   ]
  },
  {
   "cell_type": "code",
   "execution_count": 4,
   "metadata": {
    "executionInfo": {
     "elapsed": 25,
     "status": "ok",
     "timestamp": 1639944465919,
     "user": {
      "displayName": "Basilis Thiou",
      "photoUrl": "https://lh3.googleusercontent.com/a-/AOh14GiIiPUIeoAu6ZW5gHpTiRRY-KsE1sM1ffpfUk9gog=s64",
      "userId": "13467594205314738941"
     },
     "user_tz": -120
    },
    "id": "uK6bhhJRBsBU"
   },
   "outputs": [],
   "source": [
    "from tkinter import *\n",
    "from PIL import ImageTk, Image\n",
    "from tkinter import messagebox\n",
    "import numpy as np\n",
    "import matplotlib.pyplot as plt"
   ]
  },
  {
   "cell_type": "code",
   "execution_count": 6,
   "metadata": {
    "colab": {
     "base_uri": "https://localhost:8080/",
     "height": 356
    },
    "executionInfo": {
     "elapsed": 419,
     "status": "error",
     "timestamp": 1639944466316,
     "user": {
      "displayName": "Basilis Thiou",
      "photoUrl": "https://lh3.googleusercontent.com/a-/AOh14GiIiPUIeoAu6ZW5gHpTiRRY-KsE1sM1ffpfUk9gog=s64",
      "userId": "13467594205314738941"
     },
     "user_tz": -120
    },
    "id": "TerlqoITTW-a",
    "outputId": "1dc1ac92-4f3d-43be-8252-cd0ed3cf1022"
   },
   "outputs": [],
   "source": [
    "root = Tk()\n",
    "root.title('Sentiment Analysis')\n",
    "\n",
    "e = Entry(root, width = 50)\n",
    "e.grid(row = 0, column = 0, padx = 10, pady = 10, columnspan = 2)\n",
    "e.insert(0, \"\")\n",
    "\n",
    "\n",
    "def myClick_LR():\n",
    "    global my_img\n",
    "    top = Toplevel(root)\n",
    "    top.geometry('500x300')\n",
    "    top.title(\"Results of sentiment anlalysis\")\n",
    "    btn = Button(top, text='Click for accuracy score', command = graph)\n",
    "    my_img = ImageTk.PhotoImage(Image.open(\"logistic.png\"))\n",
    "    my_label = Label(top, image = my_img)\n",
    "    my_label2 = Label(top, text = \"Accuracy is 69%\")\n",
    "    my_label3 = Label(top, text = \"Scores of Logistic Regression\")\n",
    "    my_label.pack()\n",
    "    my_label2.pack()\n",
    "    my_label3.pack()\n",
    "    btn.pack()\n",
    "    \n",
    "def myClick_SVM():\n",
    "    \n",
    "    global my_img\n",
    "    top = Toplevel(root)\n",
    "    top.geometry('500x300')\n",
    "    top.title(\"Results of sentiment anlalysis\")\n",
    "    btn = Button(top, text='Click for accuracy score', command = graph)\n",
    "    my_img = ImageTk.PhotoImage(Image.open(\"sgd.png\"))\n",
    "    my_label = Label(top, image = my_img)\n",
    "    my_label2 = Label(top, text = \"Accuracy is 69%\")\n",
    "    my_label3 = Label(top, text = \"Scores of SVM\")\n",
    "    my_label.pack()\n",
    "    my_label2.pack()\n",
    "    my_label3.pack()\n",
    "    btn.pack() \n",
    "\n",
    "def myClick_NB():\n",
    "    \n",
    "    global my_img\n",
    "    top = Toplevel(root)\n",
    "    top.geometry('500x300')\n",
    "    top.title(\"Results of sentiment anlalysis\")\n",
    "    btn = Button(top, text='Click for accuracy score', command = graph)\n",
    "    my_img = ImageTk.PhotoImage(Image.open(\"mnb.png\"))\n",
    "    my_label = Label(top, image = my_img)\n",
    "    my_label2 = Label(top, text = \"Accuracy is 69%\")\n",
    "    my_label3 = Label(top, text = \"Scores of Naive Bayes Algorithm\")\n",
    "    my_label.pack()\n",
    "    my_label2.pack()\n",
    "    my_label3.pack()\n",
    "    btn.pack() \n",
    "    \n",
    "\n",
    "def myClick_RF():\n",
    "    \n",
    "    global my_img\n",
    "    top = Toplevel(root)\n",
    "    top.geometry('500x300')\n",
    "    top.title(\"Results of sentiment anlalysis\")\n",
    "    btn = Button(top, text='Click for accuracy score', command = graph)\n",
    "    my_img = ImageTk.PhotoImage(Image.open(\"random forest.png\"))\n",
    "    my_label = Label(top, image = my_img)\n",
    "    my_label2 = Label(top, text = \"Accuracy is 65%\")\n",
    "    my_label3 = Label(top, text = \"Scores of Random Forest Algorithm\")\n",
    "    my_label.pack()\n",
    "    my_label2.pack()\n",
    "    my_label3.pack()\n",
    "    btn.pack()\n",
    "    \n",
    "def myClick_LSTM():\n",
    "    \n",
    "    global my_img\n",
    "    top = Toplevel(root)\n",
    "    top.geometry('500x300')\n",
    "    top.title(\"Results of sentiment anlalysis\")\n",
    "    btn = Button(top, text='Click for accuracy score', command = graph)\n",
    "    my_img = ImageTk.PhotoImage(Image.open(\"lstm summary1.png\"))\n",
    "    my_label = Label(top, image = my_img)\n",
    "    my_label2 = Label(top, text = \"Accuracy is 79%\")\n",
    "    my_label3 = Label(top, text = \"Scores of LSTM\")\n",
    "    my_label.pack()\n",
    "    my_label2.pack()\n",
    "    my_label3.pack()\n",
    "    btn.pack()\n",
    "    \n",
    "def myClick_Prediction():\n",
    "    \n",
    "    global my_img\n",
    "    \n",
    "    top = Toplevel(root)\n",
    "    top.geometry('500x300')\n",
    "    top.title(\"Results of your review\")\n",
    "    str = e.get()\n",
    "    \n",
    "    sentence = []\n",
    "    \n",
    "    sentence.insert(0, str)\n",
    "    \n",
    "    # convert to a sequence\n",
    "    sequences = tokenizer.texts_to_sequences(sentence)\n",
    "\n",
    "    # pad the sequence\n",
    "    padded = pad_sequences(sequences, maxlen=max_length, padding=padding_type, truncating=trunc_type)\n",
    "    \n",
    "    res = model.predict(padded)\n",
    "    \n",
    "    my_label2 = Label(top, text = \"Prediction is: \")\n",
    "    my_label2.pack()\n",
    "    btn.pack()\n",
    "\n",
    "    \n",
    "def graph():\n",
    "    global my_img\n",
    "    top = Toplevel(root)\n",
    "    top.geometry('500x300')\n",
    "    top.title(\"Results of sentiment anlalysis\")\n",
    "    my_img = ImageTk.PhotoImage(Image.open(\"accuracy.png\"))\n",
    "    my_label = Label(top, image = my_img)\n",
    "    my_label.pack()\n",
    "    \n",
    "    \n",
    "\n",
    "def Close():\n",
    "    root.destroy()    \n",
    "\n",
    "SVMButton = Button(root, text = \"SVM\", command = myClick_SVM, padx = 10, pady =10, width = 20)\n",
    "LRButton = Button(root, text = \"Logistic Regression\", command = myClick_LR, padx = 10, pady =10, width = 20)\n",
    "MNBButton = Button(root, text = \"Multinomial Naive Bayes\", command = myClick_NB, padx = 10, pady =10, width = 20)\n",
    "RFButton = Button(root, text = \"Random Forest\", command = myClick_RF, padx = 10, pady =10, width = 20)\n",
    "LSTMButton = Button(root, text = \"LSTM\", command = myClick_LSTM, padx = 10, pady =10, width = 20)\n",
    "PREDICTIONButton = Button(root, text = \"Prediction of your sentence\", command = myClick_Prediction, padx = 10, pady =10, width = 20)\n",
    "Button_quit = Button(root, text = \"Exit Program\", command = Close,  padx = 10, pady =10, width = 20)\n",
    "\n",
    "\n",
    "SVMButton.grid(row = 1, column = 0)\n",
    "LRButton.grid(row = 2, column = 0)\n",
    "MNBButton.grid(row = 3, column = 0)\n",
    "RFButton.grid(row = 4, column = 0)\n",
    "LSTMButton.grid(row = 5, column = 0)\n",
    "PREDICTIONButton.grid(row = 6, column = 0)\n",
    "Button_quit.grid(row = 7, column = 0)\n",
    "\n",
    "\n",
    "#root.resizable(True, True)\n",
    "root.mainloop()"
   ]
  },
  {
   "cell_type": "code",
   "execution_count": null,
   "metadata": {
    "id": "xkSnd6NeToVD"
   },
   "outputs": [],
   "source": []
  }
 ],
 "metadata": {
  "colab": {
   "collapsed_sections": [],
   "name": "big-data-mining-project.ipynb",
   "provenance": []
  },
  "kernelspec": {
   "display_name": "Python 3",
   "language": "python",
   "name": "python3"
  },
  "language_info": {
   "codemirror_mode": {
    "name": "ipython",
    "version": 3
   },
   "file_extension": ".py",
   "mimetype": "text/x-python",
   "name": "python",
   "nbconvert_exporter": "python",
   "pygments_lexer": "ipython3",
   "version": "3.8.5"
  },
  "latex_envs": {
   "LaTeX_envs_menu_present": true,
   "autoclose": false,
   "autocomplete": true,
   "bibliofile": "biblio.bib",
   "cite_by": "apalike",
   "current_citInitial": 1,
   "eqLabelWithNumbers": true,
   "eqNumInitial": 1,
   "hotkeys": {
    "equation": "Ctrl-E",
    "itemize": "Ctrl-I"
   },
   "labels_anchors": false,
   "latex_user_defs": false,
   "report_style_numbering": false,
   "user_envs_cfg": false
  }
 },
 "nbformat": 4,
 "nbformat_minor": 1
}
